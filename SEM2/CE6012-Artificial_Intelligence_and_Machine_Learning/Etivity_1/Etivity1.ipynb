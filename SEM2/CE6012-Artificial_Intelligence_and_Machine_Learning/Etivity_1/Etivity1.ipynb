{
  "cells": [
    {
      "cell_type": "markdown",
      "metadata": {
        "id": "qK2_LHLX_2En"
      },
      "source": [
        "# Student name: Muhammad Khubaib Akram"
      ]
    },
    {
      "cell_type": "markdown",
      "metadata": {
        "id": "AkVpjdVH_2E6"
      },
      "source": [
        "# Student ID: 23098929"
      ]
    },
    {
      "cell_type": "code",
      "execution_count": null,
      "metadata": {
        "id": "24yZR7kc_2E8"
      },
      "outputs": [],
      "source": [
        "import matplotlib.pyplot as plt\n",
        "import numpy as np\n",
        "from sklearn import preprocessing\n",
        "import math\n",
        "import random\n",
        "from sklearn.datasets import make_classification\n",
        "from sklearn.model_selection import train_test_split\n",
        "from sklearn.linear_model import LogisticRegression\n",
        "from sklearn.model_selection import learning_curve\n",
        "from sklearn.model_selection import ShuffleSplit\n",
        "import pandas as pd\n",
        "from sklearn.neural_network import MLPClassifier"
      ]
    },
    {
      "cell_type": "markdown",
      "metadata": {
        "id": "qehl2a_y_2FE"
      },
      "source": [
        "# Task 1\n",
        "### Purpose:\n",
        "To check your understanding of key terms used throughout this module."
      ]
    },
    {
      "cell_type": "markdown",
      "source": [
        "In a perceptron model, the \"input space\" is the dimensions representing features of objects, which are circumference and weight in our case. Input space contains all the possible pairs of features. This data in the input space will be then used by perceptron to classify objects into two categories which is represented in the \"output space\" as unique/distinct labels to identify the categories. Perceptron tries to use different values from the input space in order to classify the objects. The \"unknown target function\" is the ideal function or rule that perfectly classifies all possible inputs but it is unknown. The perceptron goal is to approximate it using a \"data set\" of example inputs with known labels. The \"hypothesis set\" is the set of all hypothesis which are potential linear boundaries the perceptron considers to separate the classes. The \"final hypothesis\" is the best approximation of the target function based on training which is selected to minimize an \"error measure\" that quantifies misclassifications. \"In-sample error\" is the error rate on the training data telling us how well the model fits this data. \"Out-of-sample error\" estimates the model's performance on new, unseen data, indicating its generalization ability."
      ],
      "metadata": {
        "id": "jrVDVw9ODSRR"
      }
    },
    {
      "cell_type": "markdown",
      "metadata": {
        "id": "GwbFkRPF_2FG"
      },
      "source": [
        "## Answer"
      ]
    },
    {
      "cell_type": "markdown",
      "metadata": {
        "id": "DWcr9E9V_2FJ"
      },
      "source": [
        "Provide your answer in this cell.."
      ]
    },
    {
      "cell_type": "markdown",
      "metadata": {
        "id": "fhdoY8jL_2FN"
      },
      "source": [
        "# Task 2\n",
        "Learning curves allow us to look at the impact that the size of the training data set N has on the ability to keep the difference between $E_{in}$ and $E_{out}$ small."
      ]
    },
    {
      "cell_type": "code",
      "execution_count": null,
      "metadata": {
        "id": "MCDGI0Xw_2FT"
      },
      "outputs": [],
      "source": [
        "import numpy as np\n",
        "import matplotlib.pyplot as plt\n",
        "from sklearn.naive_bayes import GaussianNB\n",
        "from sklearn.svm import SVC\n",
        "from sklearn.datasets import load_digits\n",
        "from sklearn.model_selection import learning_curve\n",
        "from sklearn.model_selection import ShuffleSplit\n",
        "\n",
        "\n",
        "def plot_learning_curve(estimator, title, X, y, ylim=None, cv=None,\n",
        "                        n_jobs=None, train_sizes=np.linspace(.1, 1.0, 5)):\n",
        "    \"\"\"\n",
        "    Generate a simple plot of the test and training learning curve.\n",
        "\n",
        "    Parameters\n",
        "    ----------\n",
        "    estimator : object type that implements the \"fit\" and \"predict\" methods\n",
        "        An object of that type which is cloned for each validation.\n",
        "\n",
        "    title : string\n",
        "        Title for the chart.\n",
        "\n",
        "    X : array-like, shape (n_samples, n_features)\n",
        "        Training vector, where n_samples is the number of samples and\n",
        "        n_features is the number of features.\n",
        "\n",
        "    y : array-like, shape (n_samples) or (n_samples, n_features), optional\n",
        "        Target relative to X for classification or regression;\n",
        "        None for unsupervised learning.\n",
        "\n",
        "    ylim : tuple, shape (ymin, ymax), optional\n",
        "        Defines minimum and maximum yvalues plotted.\n",
        "\n",
        "    cv : int, cross-validation generator or an iterable, optional\n",
        "        Determines the cross-validation splitting strategy.\n",
        "        Possible inputs for cv are:\n",
        "          - None, to use the default 3-fold cross-validation,\n",
        "          - integer, to specify the number of folds.\n",
        "          - :term:`CV splitter`,\n",
        "          - An iterable yielding (train, test) splits as arrays of indices.\n",
        "\n",
        "        For integer/None inputs, if ``y`` is binary or multiclass,\n",
        "        :class:`StratifiedKFold` used. If the estimator is not a classifier\n",
        "        or if ``y`` is neither binary nor multiclass, :class:`KFold` is used.\n",
        "\n",
        "        Refer :ref:`User Guide <cross_validation>` for the various\n",
        "        cross-validators that can be used here.\n",
        "\n",
        "    n_jobs : int or None, optional (default=None)\n",
        "        Number of jobs to run in parallel.\n",
        "        ``None`` means 1 unless in a :obj:`joblib.parallel_backend` context.\n",
        "        ``-1`` means using all processors. See :term:`Glossary <n_jobs>`\n",
        "        for more details.\n",
        "\n",
        "    train_sizes : array-like, shape (n_ticks,), dtype float or int\n",
        "        Relative or absolute numbers of training examples that will be used to\n",
        "        generate the learning curve. If the dtype is float, it is regarded as a\n",
        "        fraction of the maximum size of the training set (that is determined\n",
        "        by the selected validation method), i.e. it has to be within (0, 1].\n",
        "        Otherwise it is interpreted as absolute sizes of the training sets.\n",
        "        Note that for classification the number of samples usually have to\n",
        "        be big enough to contain at least one sample from each class.\n",
        "        (default: np.linspace(0.1, 1.0, 5))\n",
        "    \"\"\"\n",
        "    plt.figure()\n",
        "    #plt.title(title)\n",
        "    if ylim is not None:\n",
        "        plt.ylim(*ylim)\n",
        "    plt.xlabel(\"Training examples\")\n",
        "    plt.ylabel(\"Error\")\n",
        "    train_sizes, train_scores, test_scores = learning_curve(\n",
        "        estimator, X, y, cv=cv, n_jobs=n_jobs, train_sizes=train_sizes)\n",
        "\n",
        "    train_errors = 1- train_scores\n",
        "    test_errors = 1-test_scores\n",
        "\n",
        "    train_errors_mean = np.mean(train_errors, axis=1)\n",
        "    train_errors_std = np.std(train_errors, axis=1)\n",
        "    test_errors_mean = np.mean(test_errors, axis=1)\n",
        "    test_errors_std = np.std(test_errors, axis=1)\n",
        "    plt.grid()\n",
        "\n",
        "    plt.fill_between(train_sizes, train_errors_mean - train_errors_std,\n",
        "                     train_errors_mean + train_errors_std, alpha=0.1,\n",
        "                     color=\"r\")\n",
        "    plt.fill_between(train_sizes, test_errors_mean - test_errors_std,\n",
        "                     test_errors_mean + test_errors_std, alpha=0.1, color=\"g\")\n",
        "    plt.plot(train_sizes, train_errors_mean, 'o-', color=\"r\",\n",
        "             label=\"Training error\")\n",
        "    plt.plot(train_sizes, test_errors_mean, 'o-', color=\"g\",\n",
        "             label=\"Test error\")\n",
        "\n",
        "\n",
        "    plt.legend(loc=\"best\")\n",
        "    return plt"
      ]
    },
    {
      "cell_type": "code",
      "execution_count": null,
      "metadata": {
        "id": "YaCc68IG_2FZ"
      },
      "outputs": [],
      "source": [
        "data = np.loadtxt(\"Et1_Task2.csv\", delimiter=\",\")\n",
        "X = data[:,0:2]\n",
        "y=data[:,2]"
      ]
    },
    {
      "cell_type": "markdown",
      "metadata": {
        "id": "knkjrKab_2Fc"
      },
      "source": [
        "## Logistic regression learning curve"
      ]
    },
    {
      "cell_type": "code",
      "execution_count": null,
      "metadata": {
        "id": "a4oDnspd_2Fd"
      },
      "outputs": [],
      "source": [
        "cv = ShuffleSplit(n_splits=25, test_size=0.2)"
      ]
    },
    {
      "cell_type": "code",
      "execution_count": null,
      "metadata": {
        "colab": {
          "base_uri": "https://localhost:8080/",
          "height": 466
        },
        "id": "eb0HKMwW_2F_",
        "outputId": "caffbe77-8b13-47fc-cd7e-b1b08166458a"
      },
      "outputs": [
        {
          "output_type": "execute_result",
          "data": {
            "text/plain": [
              "<module 'matplotlib.pyplot' from '/usr/local/lib/python3.10/dist-packages/matplotlib/pyplot.py'>"
            ]
          },
          "metadata": {},
          "execution_count": 10
        },
        {
          "output_type": "display_data",
          "data": {
            "text/plain": [
              "<Figure size 640x480 with 1 Axes>"
            ],
            "image/png": "[encoded data removed]"
          },
          "metadata": {}
        }
      ],
      "source": [
        "estimator = LogisticRegression(random_state=0, solver='lbfgs',multi_class='multinomial')\n",
        "plot_learning_curve(estimator, \"title\", X, y, cv=cv, n_jobs=4, train_sizes = np.linspace(0.01, .5, 5))"
      ]
    },
    {
      "cell_type": "markdown",
      "metadata": {
        "id": "ZOeMwaUp_2Hy"
      },
      "source": [
        "## Neural net learning curves"
      ]
    },
    {
      "cell_type": "code",
      "execution_count": null,
      "metadata": {
        "colab": {
          "base_uri": "https://localhost:8080/",
          "height": 466
        },
        "id": "46-RNw27_2H1",
        "outputId": "dbc3d96c-9965-40a7-b3d0-03dce49020da"
      },
      "outputs": [
        {
          "output_type": "execute_result",
          "data": {
            "text/plain": [
              "<module 'matplotlib.pyplot' from '/usr/local/lib/python3.10/dist-packages/matplotlib/pyplot.py'>"
            ]
          },
          "metadata": {},
          "execution_count": 10
        },
        {
          "output_type": "display_data",
          "data": {
            "text/plain": [
              "<Figure size 640x480 with 1 Axes>"
            ],
            "image/png": "[encoded data removed]"
          },
          "metadata": {}
        }
      ],
      "source": [
        "estimator = MLPClassifier(solver='lbfgs', alpha=1e-5,hidden_layer_sizes=(200, 4), random_state=1)\n",
        "plot_learning_curve(estimator, \"title\", X, y, cv=cv, n_jobs=4, train_sizes = np.linspace(0.01, .5, 5))"
      ]
    },
    {
      "cell_type": "markdown",
      "metadata": {
        "id": "3ENmjRqC_2If"
      },
      "source": [
        "## Describe and Explain\n",
        "Describe the results of the two learning curves and explain the differences in terms of what you currently understand about the relationship between $E_{in}$ and $E_{out}$ and the number of training samples, N. Provide clear explanations:\n",
        "\n",
        "- Why the training error is (generally) lower than the test error\n",
        "- Why the training error increases as the number of training samples is increased\n",
        "- Which of the two models is the more complex model"
      ]
    },
    {
      "cell_type": "markdown",
      "metadata": {
        "id": "X2yMq3aB_2Ig"
      },
      "source": [
        "### Answer\n"
      ]
    },
    {
      "cell_type": "markdown",
      "metadata": {
        "id": "B3C_sCgX_2Ih"
      },
      "source": [
        "Provide your answer in this cell.."
      ]
    },
    {
      "cell_type": "markdown",
      "source": [
        "\n",
        "\n",
        "1.   The training error is generally lower than the test error as the model is trained to fits the training data.so it performs better on the this data. But as the model hasnt seen the test data and might have unseen scenarios which might not occur during the training which mostly causes the test error to be higher than the training data.\n",
        "2. The more training samples mean that there are more unscene scenarios which model might see and as it is learning on the data training error will increase. The complexity of the data increase with more samples in the training data which might result that the model might not be able to fit resulting in more errors.\n",
        "3. The first model is using logistic regression which is a linear model. Linear models are generally considered less complex since they attempt to fit a linear decision boundary to the data. The MLPClassifier has a significantly more complex model structure with 200 neurons in one layer and 4 in another, giving it a high degree of flexibility to learn from the data.\n",
        "4. Training error can be higher than the test set either if the data set is small and during the training model overfits on the training data resulting in less error during the testing. Regularization is important  in order for the model not to overfit on the data.\n",
        "\n"
      ],
      "metadata": {
        "id": "KjAJPyhPXp0R"
      }
    },
    {
      "cell_type": "markdown",
      "source": [
        "Task 2: Analysis of Learning Curves\n"
      ],
      "metadata": {
        "id": "Kvx8XqD_BVdb"
      }
    },
    {
      "cell_type": "code",
      "source": [],
      "metadata": {
        "id": "J2V5PZ74BduV"
      },
      "execution_count": null,
      "outputs": []
    },
    {
      "cell_type": "markdown",
      "metadata": {
        "id": "Hse--17e_2Ij"
      },
      "source": [
        "# Task 3"
      ]
    },
    {
      "cell_type": "markdown",
      "metadata": {
        "id": "EKcZcm95_2Ik"
      },
      "source": [
        "## Provided functions"
      ]
    },
    {
      "cell_type": "markdown",
      "metadata": {
        "id": "LB4IzaFN_2Il"
      },
      "source": [
        "Below functions implement linear regression in a closed form (one-step solution using the pseudo-inverse)."
      ]
    },
    {
      "cell_type": "code",
      "execution_count": null,
      "metadata": {
        "id": "XFW0P5Gh_2Im"
      },
      "outputs": [],
      "source": [
        "def linreg_weights(X,y):\n",
        "    '''Returns the weight vector associated with the regression line that best describes the data X,y in an MSE fashion '''\n",
        "    # add bias 1 to inputs X\n",
        "    X = np.concatenate((np.ones((X.shape[0],1)),X.reshape(X.shape[0],X.shape[1])),axis=1)\n",
        "    # Calculation of weights using pseudo-inverse.\n",
        "    return np.linalg.inv((X.T.dot(X))).dot(X.T).dot(y)"
      ]
    },
    {
      "cell_type": "code",
      "execution_count": null,
      "metadata": {
        "id": "IsnYzIF8_2I3"
      },
      "outputs": [],
      "source": [
        "def linreg_predict(w,X):\n",
        "    ''' Returns a prediction y for data point X for a linear regression described by weights w '''\n",
        "    # add bias 1 to inputs X\n",
        "    X = np.concatenate((np.ones((X.shape[0],1)),X.reshape(X.shape[0],X.shape[1])),axis=1)\n",
        "\n",
        "    # Calculation of outputs given weights and data (X).\n",
        "    out=[]\n",
        "    for x in X:\n",
        "        out.append(w.T.dot(x))\n",
        "    return np.array(out)"
      ]
    },
    {
      "cell_type": "markdown",
      "metadata": {
        "id": "QXua3-6z_2JE"
      },
      "source": [
        "# Task 3a"
      ]
    },
    {
      "cell_type": "markdown",
      "metadata": {
        "id": "zj8XwFhk_2JV"
      },
      "source": [
        "### Answer"
      ]
    },
    {
      "cell_type": "code",
      "execution_count": null,
      "metadata": {
        "id": "q-CSuZtp_2JX"
      },
      "outputs": [],
      "source": [
        "def calc_error(w,X,y):\n",
        "    # implement your error function for linear regression here\n",
        "\n",
        "    X = np.concatenate((np.ones((X.shape[0], 1)), X), axis=1)\n",
        "    predicted = np.dot(X, w)\n",
        "    # Calculate the mean squared error (target - predicted)^2\n",
        "    mse = np.mean((y - predicted) ** 2)\n",
        "\n",
        "    return mse"
      ]
    },
    {
      "cell_type": "markdown",
      "source": [
        "\\[ y = w_0 + w_1 x \\]\n",
        "\n"
      ],
      "metadata": {
        "id": "1D4Z5UtE-CCB"
      }
    },
    {
      "cell_type": "code",
      "source": [
        "# Load data\n",
        "data = pd.read_csv('Et1_Task3a.csv', header=None)\n",
        "print(data.describe())\n",
        "print(data.head())"
      ],
      "metadata": {
        "colab": {
          "base_uri": "https://localhost:8080/"
        },
        "id": "LkHUDwS2XLuM",
        "outputId": "71269d3e-ea9d-4b59-d85d-fa1a18e3a46b"
      },
      "execution_count": null,
      "outputs": [
        {
          "output_type": "stream",
          "name": "stdout",
          "text": [
            "               0          1\n",
            "count  20.000000  20.000000\n",
            "mean    0.500000   0.630949\n",
            "std     0.311373   0.172553\n",
            "min     0.000000   0.384816\n",
            "25%     0.250000   0.444125\n",
            "50%     0.500000   0.637046\n",
            "75%     0.750000   0.786284\n",
            "max     1.000000   0.876411\n",
            "          0         1\n",
            "0  0.210526  0.426012\n",
            "1  0.473684  0.650721\n",
            "2  0.789474  0.784824\n",
            "3  0.052632  0.442512\n",
            "4  0.315789  0.444663\n"
          ]
        }
      ]
    },
    {
      "cell_type": "code",
      "source": [
        "\n",
        "X = data.iloc[:, :-1].values  # Features\n",
        "y = data.iloc[:, -1].values   # Labels/targets\n",
        "#print(\"X Shape = {X.shape})\n",
        "\n"
      ],
      "metadata": {
        "id": "4T2XB67xW6i1"
      },
      "execution_count": null,
      "outputs": []
    },
    {
      "cell_type": "code",
      "source": [
        "print(f\"X Shape {X.shape}\")\n",
        "print()\n",
        "print(X)\n",
        "print()\n",
        "print(f\"X Shape {X[:, 0]}\")\n"
      ],
      "metadata": {
        "colab": {
          "base_uri": "https://localhost:8080/"
        },
        "id": "xqpZfpQ3ism-",
        "outputId": "2dfd21f0-f812-46e6-a72a-68b9378d0bb7"
      },
      "execution_count": null,
      "outputs": [
        {
          "output_type": "stream",
          "name": "stdout",
          "text": [
            "X Shape (20, 1)\n",
            "\n",
            "[[0.21052632]\n",
            " [0.47368421]\n",
            " [0.78947368]\n",
            " [0.05263158]\n",
            " [0.31578947]\n",
            " [0.94736842]\n",
            " [0.63157895]\n",
            " [0.        ]\n",
            " [0.42105263]\n",
            " [0.57894737]\n",
            " [0.68421053]\n",
            " [0.36842105]\n",
            " [0.84210526]\n",
            " [0.10526316]\n",
            " [1.        ]\n",
            " [0.26315789]\n",
            " [0.52631579]\n",
            " [0.73684211]\n",
            " [0.89473684]\n",
            " [0.15789474]]\n",
            "\n",
            "X Shape [0.21052632 0.47368421 0.78947368 0.05263158 0.31578947 0.94736842\n",
            " 0.63157895 0.         0.42105263 0.57894737 0.68421053 0.36842105\n",
            " 0.84210526 0.10526316 1.         0.26315789 0.52631579 0.73684211\n",
            " 0.89473684 0.15789474]\n"
          ]
        }
      ]
    },
    {
      "cell_type": "code",
      "source": [
        "print(f\"y Shape {y.shape}\")\n",
        "print()\n",
        "print(y)"
      ],
      "metadata": {
        "colab": {
          "base_uri": "https://localhost:8080/"
        },
        "id": "kNTU6fjNivYi",
        "outputId": "c5804b02-1067-4239-95bb-5e62342b8946"
      },
      "execution_count": null,
      "outputs": [
        {
          "output_type": "stream",
          "name": "stdout",
          "text": [
            "y Shape (20,)\n",
            "\n",
            "[0.42601237 0.65072099 0.78482436 0.44251218 0.44466274 0.79066361\n",
            " 0.59209029 0.39156142 0.62337167 0.70118235 0.66063027 0.65121604\n",
            " 0.87641061 0.40380726 0.87522572 0.62246649 0.57909817 0.86577467\n",
            " 0.851927   0.38481615]\n"
          ]
        }
      ]
    },
    {
      "cell_type": "code",
      "source": [
        "\n",
        "w = linreg_weights(X, y)\n",
        "#print(type(w))\n",
        "#print(w)\n",
        "\n",
        "plt.scatter(X[:, 0], y, color='blue', label='Original Data')\n",
        "plt.plot(X[:, 0], linreg_predict(w, X), color='red', label='Regression Line')\n",
        "plt.xlabel('Feature')\n",
        "plt.ylabel('Target')\n",
        "plt.title('Linear Regression')\n",
        "plt.legend()\n",
        "plt.show()"
      ],
      "metadata": {
        "colab": {
          "base_uri": "https://localhost:8080/",
          "height": 472
        },
        "id": "wh6bHkJ4MMwN",
        "outputId": "06c6d443-b52d-4a34-dc77-76c6d3ce7a45"
      },
      "execution_count": null,
      "outputs": [
        {
          "output_type": "display_data",
          "data": {
            "text/plain": [
              "<Figure size 640x480 with 1 Axes>"
            ],
            "image/png": "[encoded data removed]"
          },
          "metadata": {}
        }
      ]
    },
    {
      "cell_type": "code",
      "source": [
        "\n",
        "# Calculate and print the error\n",
        "error = calc_error(w, X, y)\n",
        "print(\"Error:\", error)\n"
      ],
      "metadata": {
        "colab": {
          "base_uri": "https://localhost:8080/"
        },
        "id": "zeQTHNK0MRVi",
        "outputId": "2964e30a-9706-4366-8748-fe46af0f78a8"
      },
      "execution_count": null,
      "outputs": [
        {
          "output_type": "stream",
          "name": "stdout",
          "text": [
            "Error: 0.004281801813255595\n"
          ]
        }
      ]
    },
    {
      "cell_type": "code",
      "source": [
        "\n",
        "outlier = np.array([[1.5]])  # outlier for your dataset\n",
        "\n",
        "# Add an outlier to data set feature X\n",
        "X_o = np.vstack([X, outlier])\n",
        "# Add an outlier to target\n",
        "y_o = np.append(y, [2.1234])\n",
        "\n",
        "# Calculate the new weights with the outlier\n",
        "w_or = linreg_weights(X_o, y_o)\n",
        "\n",
        "# Plot the data with the outlier and the new regression line\n",
        "plt.scatter(X_o[:, 0], y_o, color='blue', label='Data with an Outlier')\n",
        "\n",
        "plt.plot(X_o[:, 0], linreg_predict(w_or, X_o), color='red', label='Regression Line with an Outlier')\n",
        "\n",
        "plt.xlabel('Feature')\n",
        "plt.ylabel('Target')\n",
        "plt.title('Linear Regression with  an Outlier')\n",
        "plt.legend()\n",
        "plt.show()\n",
        "\n",
        "# Calculate and print the new error with the outlier\n",
        "new_error = calc_error(w_or, X_o, y_o)\n",
        "print(\"New Error with the Outlier in the data set:\", new_error)\n"
      ],
      "metadata": {
        "colab": {
          "base_uri": "https://localhost:8080/",
          "height": 489
        },
        "id": "qDECe16k96V2",
        "outputId": "9a8b3387-0eb2-40e2-bd75-d0e874f694a6"
      },
      "execution_count": null,
      "outputs": [
        {
          "output_type": "display_data",
          "data": {
            "text/plain": [
              "<Figure size 640x480 with 1 Axes>"
            ],
            "image/png": "[encoded data removed]"
          },
          "metadata": {}
        },
        {
          "output_type": "stream",
          "name": "stdout",
          "text": [
            "New Error with the Outlier in the data set: 0.03290354749327814\n"
          ]
        }
      ]
    },
    {
      "cell_type": "code",
      "source": [
        "predicted = linreg_predict(w_or, X_o)\n",
        "sq_errors =  (y_o - predicted)**2\n",
        "maxEr_index = np.argmax(sq_errors)\n",
        "maxEr_datapoint = X_o[maxEr_index], y_o[maxEr_index]\n",
        "print(\"Max Error data points\", maxEr_datapoint)"
      ],
      "metadata": {
        "colab": {
          "base_uri": "https://localhost:8080/"
        },
        "id": "32zv4czT4VNo",
        "outputId": "509e4457-139e-4533-b395-b61958a63389"
      },
      "execution_count": null,
      "outputs": [
        {
          "output_type": "stream",
          "name": "stdout",
          "text": [
            "Max Error data points (array([1.5]), 2.1234)\n"
          ]
        }
      ]
    },
    {
      "cell_type": "markdown",
      "source": [
        "##  Describe and Explain\n",
        "Discuss your results and answer the following questions:\n",
        "1. Which data point adds the biggest error term to the optimised error function?\n",
        "2. How does the error contributed by this point relate to its distance from the regression line/function?\n",
        "3. How do outliers effect linear regression and why?\n",
        "4. Under what circumstances will linear regression with a squared error measure be a good model?"
      ],
      "metadata": {
        "id": "3aps8pTFSZNt"
      }
    },
    {
      "cell_type": "markdown",
      "source": [
        "Discussing the results from the implementation of linear regression, including the addition of an outlier, leads us to several insights:\n",
        "\n",
        "1. **Which data point adds the biggest error term to the optimized error function?**\n",
        "   - The data point that adds the biggest error term to the optimized error function is (1.5, 2.1234) which is an outlier.Before adding the outlier in the dataset, the error was 0.004281801813255595 but after adding the outlier it increased to 0.03290354749327814. It shows that how much outliers affect the overall result. As in MSE, square is taken which modifies the effects of an outlier.\n",
        "\n",
        "2. **How does the error contributed by this point relate to its distance from the regression line/function?**\n",
        "    \n",
        "    - The farthest the outlier is the more influence it will have, if the outliers are closer to the regression line the less influnce it will have on the regression line.  \n",
        "\n",
        "3. **How do outliers affect linear regression and why?**\n",
        "   - Outliers have huge impact on linear regression models. As the linear regression aims to minimize the mean squared error between the predicted and target values. The mean square error is calculated by squaring the differences btw predicted and target/actual values. When mean square error is calculated outlier is magnified. It could lead the linear regression line being pulled or skewed towards the outlier.  \n",
        "\n",
        "   \n",
        "4. **Under what circumstances will linear regression with a squared error measure be a good model?**\n",
        "\n",
        "  - When there arent any outliers the MSE is a good model. As outliers effect is magnified in MSE, which affects very badly.\n",
        "  - When the relationship between the varaiables is linear."
      ],
      "metadata": {
        "id": "Xe3Zapq6-MnR"
      }
    },
    {
      "cell_type": "markdown",
      "source": [],
      "metadata": {
        "id": "kRjIIq79950o"
      }
    },
    {
      "cell_type": "markdown",
      "metadata": {
        "id": "tXuhR3c2_2J4"
      },
      "source": [
        "You may add as many cells below as you require."
      ]
    },
    {
      "cell_type": "markdown",
      "metadata": {
        "id": "6sv8zYid_2J5"
      },
      "source": [
        "Provide your answer in this cell.."
      ]
    },
    {
      "cell_type": "markdown",
      "metadata": {
        "id": "GzHakYCf_2Kr"
      },
      "source": [
        "# Task 3b"
      ]
    },
    {
      "cell_type": "markdown",
      "metadata": {
        "id": "ybZ246CA_2Ks"
      },
      "source": [
        "For regression the Mean Squared Error measure is a useful error measure. In this task we will explore how useful mean squared error is for classification. To this end:\n",
        "\n",
        "- Use the provided code to classify the provided data using the linear classification algorithm\n",
        "- Note that linear classification is implemented by putting the output of the linear regression model through the sign function"
      ]
    },
    {
      "cell_type": "markdown",
      "metadata": {
        "id": "-EeQQ6GE_2K7"
      },
      "source": [
        "### Answer"
      ]
    },
    {
      "cell_type": "code",
      "execution_count": null,
      "metadata": {
        "id": "gZ7Klpo0_2M1"
      },
      "outputs": [],
      "source": [
        "def calc_class_error(w,X,y):\n",
        "    # implement your error function for linear classification here\n"
      ]
    },
    {
      "cell_type": "code",
      "execution_count": null,
      "metadata": {
        "id": "tFVwFSSM_2M6"
      },
      "outputs": [],
      "source": [
        "def linclass_predict(w,X):\n",
        "    # implement your linear classification algorithm here\n"
      ]
    },
    {
      "cell_type": "markdown",
      "metadata": {
        "id": "IDkTSvkV_2M9"
      },
      "source": [
        "You may add as many cells below as you require."
      ]
    },
    {
      "cell_type": "markdown",
      "metadata": {
        "id": "RqXh6qoP_2M_"
      },
      "source": [
        "##  Describe and Explain\n",
        "Describe the impact of the outlier on both models. Explain why logistic regression is less sensitive to the outlier."
      ]
    },
    {
      "cell_type": "markdown",
      "metadata": {
        "id": "WeBuDNKH_2M_"
      },
      "source": [
        "Provide your answer in this cell.."
      ]
    },
    {
      "cell_type": "markdown",
      "source": [],
      "metadata": {
        "id": "f6yQcz6qF2Rc"
      }
    },
    {
      "cell_type": "markdown",
      "metadata": {
        "id": "FFNGO-fF_2NA"
      },
      "source": [
        " # Reflection\n",
        " Once you have completed all tasks in this notebook and have studied all other materials for this E-tivity (resources, lectures and live sessions), answer the following questions.\n",
        "<ol>\n",
        "<li>Summarise your understanding of how the Hoeffding bound, the concept of 'shattering', break points and the growth function inform the VC bound for a binary classifier. Also discuss how this relates to the general rule of thumb in machine learning that one needs a number of data points at least equal to 10 times the VC bound.</li>\n",
        "<li>Summarise your understanding of the approximation-generalisation trade-off in terms of complexity, bias and variance of a model, and the resulting under/overfitting given the available data. </li>\n",
        "    </ol>"
      ]
    },
    {
      "cell_type": "markdown",
      "source": [
        "1.\n",
        "\n",
        "\n"
      ],
      "metadata": {
        "id": "OmmnoHWzAwce"
      }
    },
    {
      "cell_type": "markdown",
      "metadata": {
        "id": "Q03C6NJ8_2NB"
      },
      "source": [
        "*   **Hoeffding bound** provides an upper bound on the probability that the in-sample error $E_{in}$ and the out-of-sample error $E_{out}$ will deviate by more than a certain  $\\epsilon$\n",
        "\n",
        "    $P[∣E_{in}(h​)−E_{out}(hi​)∣>ϵ]≤ 2e^{−2ϵ^2N}$\n",
        "\n",
        "*   **Shattering** concept is that the ability of a hypothesis set to classify all the points perfectly give a data points N.\n",
        "\n",
        "\n",
        "* The set of hypotheses which classifies the data points the same and doesn't classify even one data point differently is known as **dichotomies**.\n",
        "* The maximum number of dichotomies, as a function of N, that can be realised by a model is called the **growth function** of that model. If all the $2^N$ dichotomies are realized then the model has shattered the data for those N points. The growth function increases slowly then the factor of $2^N$ for each increment in value of N.  \n",
        "* There comes the value of N where the data points are no longer able to shatter the dataset; this value of N is known as the **breakpoint** of the model. If a hypothesis set has a break point for N=k and k is finite, that the growth function is always smaller than:\n",
        "\n",
        "  $m_h(𝑁) ≤ N^{k-1} +1= N^{d_{VC}} +1$\n",
        "\n",
        "  This breakpoint value of N is known as K. K-1 is equal to the largest N for which the hypothesis set shatters a constellation of N points, and this N can be thought of as expressing the complexity of the hypothesis set. K-1 is known as the VC dimension of the model. With all the shattering, breakpoints, growth functions, we updated Hoeffding bound with the upper bound on the growth function is known as **VC bound**.\n",
        "  \n",
        "  $P[∣E_{in}(h​)−E_{out}(hi​)∣>ϵ]≤ 4[(2N)^{d_{VC}}+1]e^{−1/8ϵ^2N}$\n",
        "\n",
        "* The rule of thumb is that the minimun amount required for data is 10 times the VC dimension in order for the model to generalize well on the unseen data as well.\n",
        "\n",
        "-------------------------------------\n"
      ]
    },
    {
      "cell_type": "markdown",
      "metadata": {
        "id": "9Xt5vMx7_2NE"
      },
      "source": [
        "## 2\n"
      ]
    },
    {
      "cell_type": "markdown",
      "source": [
        "Bias is difference between the average hypothese and the actual output. If the bias is high, it means that model is underfit and it missed the relevant information which will cause the model not to generalize well on the unseen data.\n",
        "\n",
        "Variance is the difference between the each individual hypthosis than the average hypothesis. If the variance is high then it will catch the noise in the data and will overfit the training data.\n",
        "\n",
        "A model which is too simple will have high bias, it means it will not learn well from the training datadata is (underfit) meanwhile the mode which has high complexity will learn too much from the training data (overfit) it wont generalize well on the unseen/testing data meaning it will have high variance.\n",
        "\n",
        "The approximation-generalization trade-off lies in finding the right balance between simplicity and complexity in a model to minimize overall error.\n"
      ],
      "metadata": {
        "id": "bar4Xyf-NaVW"
      }
    },
    {
      "cell_type": "markdown",
      "source": [
        "\n",
        "##What I have learned from my peers?\n",
        "\n",
        "**I need to explain the answers in details instead of writing short answer or linear. Make it explainable as much as I can. **"
      ],
      "metadata": {
        "id": "Opgg9jWaV-P_"
      }
    },
    {
      "cell_type": "markdown",
      "metadata": {
        "id": "4MzDvSqb_2NG"
      },
      "source": [
        "<hr style=\"border:2px solid gray\">\n",
        "\n",
        "# Appendix"
      ]
    },
    {
      "cell_type": "markdown",
      "metadata": {
        "id": "j4NzIf4d_2NH"
      },
      "source": [
        "## Demonstration of effect of outlier on logistic regression decision boundary for comparision with linear classification\n",
        "\n",
        "Below code demonstrates the effect of an outlier on the decision boundary chosen by logistic regression. You can use this code to compare the effect of outliers in a classification algorithm using mean square error as the error measure with that in a classification algorithm using log likelihood as the error measure. Moreover, below code provides some good hints for plotting the decision boundary in task 3b :-)."
      ]
    },
    {
      "cell_type": "markdown",
      "metadata": {
        "id": "3IQCyfMY_2NJ"
      },
      "source": [
        "Load data:"
      ]
    },
    {
      "cell_type": "code",
      "execution_count": null,
      "metadata": {
        "id": "oEs4jDt6_2NK"
      },
      "outputs": [],
      "source": [
        "data = np.loadtxt(\"Et1_Task3b.csv\", delimiter=\",\")\n",
        "X = data[:,0:2]\n",
        "y=data[:,2]"
      ]
    },
    {
      "cell_type": "markdown",
      "metadata": {
        "id": "MnNyilsV_2NL"
      },
      "source": [
        "Fit model:"
      ]
    },
    {
      "cell_type": "code",
      "execution_count": null,
      "metadata": {
        "id": "Cevo6w-Z_2NM",
        "colab": {
          "base_uri": "https://localhost:8080/"
        },
        "outputId": "41a9b634-ccf5-4111-9cac-ffa8363785ed"
      },
      "outputs": [
        {
          "output_type": "execute_result",
          "data": {
            "text/plain": [
              "0.83"
            ]
          },
          "metadata": {},
          "execution_count": 4
        }
      ],
      "source": [
        "estimator = LogisticRegression(solver='lbfgs')\n",
        "estimator.fit(X,y)\n",
        "estimator.score(X,y)"
      ]
    },
    {
      "cell_type": "markdown",
      "metadata": {
        "id": "eFTkbWBy_2NR"
      },
      "source": [
        "Extract weights from model:"
      ]
    },
    {
      "cell_type": "code",
      "execution_count": null,
      "metadata": {
        "id": "d_FZL4cu_2NT",
        "colab": {
          "base_uri": "https://localhost:8080/"
        },
        "outputId": "263867fe-d5b7-4a35-daa8-7cdf2033aa68"
      },
      "outputs": [
        {
          "output_type": "execute_result",
          "data": {
            "text/plain": [
              "array([ 0.0734753 ,  1.13198888, -1.608425  ])"
            ]
          },
          "metadata": {},
          "execution_count": 5
        }
      ],
      "source": [
        "w_lr = estimator.intercept_\n",
        "w_lr=np.append(w_lr, estimator.coef_)\n",
        "w_lr"
      ]
    },
    {
      "cell_type": "markdown",
      "metadata": {
        "id": "p6FEufDT_2NU"
      },
      "source": [
        "Add outlier:"
      ]
    },
    {
      "cell_type": "code",
      "execution_count": null,
      "metadata": {
        "id": "NJY8fkX2_2Na"
      },
      "outputs": [],
      "source": [
        "X = np.append(X,[[-2,6]], axis=0)\n",
        "y = np.append(y,[1],axis=0)"
      ]
    },
    {
      "cell_type": "markdown",
      "metadata": {
        "id": "IsS4Syjx_2Nb"
      },
      "source": [
        "Fit model with outlier:"
      ]
    },
    {
      "cell_type": "code",
      "execution_count": null,
      "metadata": {
        "id": "zI11My--_2Nc",
        "colab": {
          "base_uri": "https://localhost:8080/"
        },
        "outputId": "6999557e-3101-450a-a64d-285b2ef708a9"
      },
      "outputs": [
        {
          "output_type": "execute_result",
          "data": {
            "text/plain": [
              "0.8118811881188119"
            ]
          },
          "metadata": {},
          "execution_count": 7
        }
      ],
      "source": [
        "estimator = LogisticRegression(solver='lbfgs')\n",
        "estimator.fit(X,y)\n",
        "estimator.score(X,y)"
      ]
    },
    {
      "cell_type": "markdown",
      "metadata": {
        "id": "27Cp8Pvl_2No"
      },
      "source": [
        "Extract new weight vector from model:"
      ]
    },
    {
      "cell_type": "code",
      "execution_count": null,
      "metadata": {
        "id": "ZcmB2ytx_2Np",
        "colab": {
          "base_uri": "https://localhost:8080/"
        },
        "outputId": "a0d6fbf4-b170-4983-a5a4-1b4715186de4"
      },
      "outputs": [
        {
          "output_type": "execute_result",
          "data": {
            "text/plain": [
              "array([ 0.09420734,  0.96672772, -1.03886315])"
            ]
          },
          "metadata": {},
          "execution_count": 8
        }
      ],
      "source": [
        "w_lr_2 = estimator.intercept_\n",
        "w_lr_2=np.append(w_lr_2, estimator.coef_)\n",
        "w_lr_2"
      ]
    },
    {
      "cell_type": "markdown",
      "metadata": {
        "id": "LTOyQNi2_2Nq"
      },
      "source": [
        "Plot original and new decision boundary using weight vectors. Decision boundary is defined by equation: $w_0+x_0\\cdot w_1+x_1 \\cdot w_2=0 \\rightarrow x_2 = -\\frac{w_0}{w_2}-x_1\\frac{w_1}{w_2}$"
      ]
    },
    {
      "cell_type": "code",
      "execution_count": null,
      "metadata": {
        "id": "mfhkSO70_2Nr",
        "colab": {
          "base_uri": "https://localhost:8080/",
          "height": 470
        },
        "outputId": "45f5669e-0a58-437d-8d7e-34dc99aafc25"
      },
      "outputs": [
        {
          "output_type": "display_data",
          "data": {
            "text/plain": [
              "<Figure size 640x480 with 1 Axes>"
            ],
            "image/png": "[encoded data removed]"
          },
          "metadata": {}
        },
        {
          "output_type": "execute_result",
          "data": {
            "text/plain": [
              "0.6237623762376238"
            ]
          },
          "metadata": {},
          "execution_count": 9
        }
      ],
      "source": [
        "y_p = estimator.predict(X)\n",
        "plt.scatter(X[:, 0], X[:, 1], c=y)\n",
        "plt.plot([-2,2],[-w_lr[0]/w_lr[2]+w_lr[1]/w_lr[2]*2,-w_lr[0]/w_lr[2]-w_lr[1]/w_lr[2]*2],'b',label=\"original data\")\n",
        "plt.plot([-2,2],[-w_lr_2[0]/w_lr_2[2]+w_lr_2[1]/w_lr_2[2]*2,-w_lr_2[0]/w_lr_2[2]-w_lr_2[1]/w_lr_2[2]*2],'r',label='data with outlier')\n",
        "\n",
        "plt.title(\"Data with outlier classified with logistic regression\")\n",
        "plt.legend(loc=\"upper right\")\n",
        "plt.show()\n",
        "1-sum(abs(y_p-y))/len(y)"
      ]
    }
  ],
  "metadata": {
    "kernelspec": {
      "display_name": "Python 3 (ipykernel)",
      "language": "python",
      "name": "python3"
    },
    "language_info": {
      "codemirror_mode": {
        "name": "ipython",
        "version": 3
      },
      "file_extension": ".py",
      "mimetype": "text/x-python",
      "name": "python",
      "nbconvert_exporter": "python",
      "pygments_lexer": "ipython3",
      "version": "3.8.8"
    },
    "colab": {
      "provenance": []
    }
  },
  "nbformat": 4,
  "nbformat_minor": 0
}