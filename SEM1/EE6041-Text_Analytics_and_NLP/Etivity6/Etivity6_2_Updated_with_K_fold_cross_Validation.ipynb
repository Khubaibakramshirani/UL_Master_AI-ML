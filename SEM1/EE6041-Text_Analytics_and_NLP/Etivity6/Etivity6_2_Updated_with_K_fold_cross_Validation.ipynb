{
  "nbformat": 4,
  "nbformat_minor": 0,
  "metadata": {
    "colab": {
      "provenance": [],
      "machine_shape": "hm",
      "gpuType": "T4"
    },
    "kernelspec": {
      "name": "python3",
      "display_name": "Python 3"
    },
    "language_info": {
      "name": "python"
    },
    "accelerator": "GPU"
  },
  "cells": [
    {
      "cell_type": "code",
      "source": [
        "import nltk\n",
        "nltk.download('punkt')"
      ],
      "metadata": {
        "colab": {
          "base_uri": "https://localhost:8080/"
        },
        "id": "rBEOz9Dv5tic",
        "outputId": "c3ac4ca8-2aed-49f6-df33-ecda3b322b59"
      },
      "execution_count": null,
      "outputs": [
        {
          "output_type": "stream",
          "name": "stderr",
          "text": [
            "[nltk_data] Downloading package punkt to /root/nltk_data...\n",
            "[nltk_data]   Package punkt is already up-to-date!\n"
          ]
        },
        {
          "output_type": "execute_result",
          "data": {
            "text/plain": [
              "True"
            ]
          },
          "metadata": {},
          "execution_count": 9
        }
      ]
    },
    {
      "cell_type": "code",
      "source": [
        "training_set = [('London is the Capital of GB', 'GB'), ('Oxford is a city in GB', 'GB'), ('Dublin is the capital of Ireland', 'IE'),('Limerick is a city in Ireland', 'IE')]\n",
        "\n",
        "test_set = [('University of Limerick', 'IE'), ('University College Dublin', 'IE'), ('Imperial College London','GB'), ('University of Oxford', 'GB'), ('Ireland & GB', 'GB')]\n",
        "\n",
        "from textblob.classifiers import NaiveBayesClassifier\n",
        "\n",
        "def navieBayesClassifier(trainingSet,testSet):\n",
        "  cl = NaiveBayesClassifier(trainingSet)\n",
        "  for doc in testSet:\n",
        "    print(f\"Document: {doc[0]}      Predict Class: {cl.classify(doc[0])}\")\n",
        "    print()\n",
        "  print(f\"Accuracy: {cl.accuracy(testSet)}\")\n",
        "navieBayesClassifier(training_set,test_set)"
      ],
      "metadata": {
        "colab": {
          "base_uri": "https://localhost:8080/"
        },
        "id": "nvKkto5G5c1O",
        "outputId": "b0523903-e49b-49f4-d5ba-de2ec53a9bd9"
      },
      "execution_count": null,
      "outputs": [
        {
          "output_type": "stream",
          "name": "stdout",
          "text": [
            "Document: University of Limerick      Predict Class: IE\n",
            "\n",
            "Document: University College Dublin      Predict Class: IE\n",
            "\n",
            "Document: Imperial College London      Predict Class: GB\n",
            "\n",
            "Document: University of Oxford      Predict Class: GB\n",
            "\n",
            "Document: Ireland & GB      Predict Class: IE\n",
            "\n",
            "Accuracy: 0.8\n"
          ]
        }
      ]
    },
    {
      "cell_type": "code",
      "source": [
        "\n",
        "import pandas as pd\n",
        "import numpy as np\n",
        "from textblob.classifiers import NaiveBayesClassifier\n",
        "from textblob import TextBlob\n",
        "import requests\n",
        "from io import StringIO"
      ],
      "metadata": {
        "id": "mfzpXO66qzYa"
      },
      "execution_count": null,
      "outputs": []
    },
    {
      "cell_type": "code",
      "source": [
        "!wget \"https://storage.googleapis.com/dataset-uploader/bbc/bbc-text.csv\"\n",
        "\n",
        "\n",
        "file_name = 'bbc-text.csv'\n",
        "\n",
        "df = pd.read_csv(file_name)\n",
        "\n",
        "#swapping columns\n",
        "columns_titles = [\"category\",\"text\"]\n",
        "df=df.reindex(columns=columns_titles)\n",
        "\n",
        "print(df.head())\n",
        "print(f\"\\nNumber of Documents: {len(df)}\")\n",
        "print(f\"\\nDocuments per Category:\\n{df['category'].value_counts()}\")\n",
        "\n",
        "\n",
        "training_size = int(len(df) * 0.8)\n",
        "\n",
        "train_df = df[:training_size]\n",
        "test_df = df[training_size:]\n",
        "\n",
        "print(\"\\nTrain Size:\", len(train_df))\n",
        "print(f\"\\nTraing Set Samples:  \\n{train_df}\\n\")\n",
        "\n",
        "print(\"\\nTest Size:\",len(test_df))\n",
        "print(f\"\\nTesting Set Samples:  \\n{test_df}\\n\")\n",
        "\n",
        "train_t = [(text, category) for text, category in zip(train_df['text'], train_df['category'])]\n",
        "test_t = [(text, category) for text, category in zip(test_df['text'], test_df['category'])]\n"
      ],
      "metadata": {
        "colab": {
          "base_uri": "https://localhost:8080/"
        },
        "id": "Wy6-fTgqtaps",
        "outputId": "713e5f58-5308-486c-dd44-69a11f082100"
      },
      "execution_count": null,
      "outputs": [
        {
          "output_type": "stream",
          "name": "stdout",
          "text": [
            "--2023-12-02 13:40:20--  https://storage.googleapis.com/dataset-uploader/bbc/bbc-text.csv\n",
            "Resolving storage.googleapis.com (storage.googleapis.com)... 173.194.217.207, 108.177.11.207, 108.177.12.207, ...\n",
            "Connecting to storage.googleapis.com (storage.googleapis.com)|173.194.217.207|:443... connected.\n",
            "HTTP request sent, awaiting response... 200 OK\n",
            "Length: 5057493 (4.8M) [text/csv]\n",
            "Saving to: ‘bbc-text.csv’\n",
            "\n",
            "\rbbc-text.csv          0%[                    ]       0  --.-KB/s               \rbbc-text.csv        100%[===================>]   4.82M  --.-KB/s    in 0.04s   \n",
            "\n",
            "2023-12-02 13:40:20 (117 MB/s) - ‘bbc-text.csv’ saved [5057493/5057493]\n",
            "\n",
            "        category                                               text\n",
            "0           tech  tv future in the hands of viewers with home th...\n",
            "1       business  worldcom boss  left books alone  former worldc...\n",
            "2          sport  tigers wary of farrell  gamble  leicester say ...\n",
            "3          sport  yeading face newcastle in fa cup premiership s...\n",
            "4  entertainment  ocean s twelve raids box office ocean s twelve...\n",
            "\n",
            "Number of Documents: 2225\n",
            "\n",
            "Documents per Category:\n",
            "sport            511\n",
            "business         510\n",
            "politics         417\n",
            "tech             401\n",
            "entertainment    386\n",
            "Name: category, dtype: int64\n",
            "\n",
            "Train Size: 1780\n",
            "\n",
            "Traing Set Samples:  \n",
            "           category                                               text\n",
            "0              tech  tv future in the hands of viewers with home th...\n",
            "1          business  worldcom boss  left books alone  former worldc...\n",
            "2             sport  tigers wary of farrell  gamble  leicester say ...\n",
            "3             sport  yeading face newcastle in fa cup premiership s...\n",
            "4     entertainment  ocean s twelve raids box office ocean s twelve...\n",
            "...             ...                                                ...\n",
            "1775           tech  china  blocks google news site  china has been...\n",
            "1776       politics  labour accused of  eu propaganda  a  taxpayer ...\n",
            "1777          sport  tevez - an argentine in brazil some 65 years a...\n",
            "1778       business  water firm suez in argentina row a conflict be...\n",
            "1779  entertainment  tv presenter deeley drops cd:uk cat deeley has...\n",
            "\n",
            "[1780 rows x 2 columns]\n",
            "\n",
            "\n",
            "Test Size: 445\n",
            "\n",
            "Testing Set Samples:  \n",
            "           category                                               text\n",
            "1780  entertainment  hobbit picture  four years away  lord of the r...\n",
            "1781           tech  game firm holds  cast  auditions video game fi...\n",
            "1782       politics  clarke plans migrant point scheme anyone plann...\n",
            "1783          sport  radcliffe will compete in london paula radclif...\n",
            "1784          sport  serena becomes world number two serena william...\n",
            "...             ...                                                ...\n",
            "2220       business  cars pull down us retail figures us retail sal...\n",
            "2221       politics  kilroy unveils immigration policy ex-chatshow ...\n",
            "2222  entertainment  rem announce new glasgow concert us band rem h...\n",
            "2223       politics  how political squabbles snowball it s become c...\n",
            "2224          sport  souness delight at euro progress boss graeme s...\n",
            "\n",
            "[445 rows x 2 columns]\n",
            "\n"
          ]
        }
      ]
    },
    {
      "cell_type": "code",
      "source": [
        "\n",
        "cl = NaiveBayesClassifier(train_t)\n",
        "accuracy = cl.accuracy(test_t)\n",
        "print(\"Model's accuracy:\", accuracy)"
      ],
      "metadata": {
        "colab": {
          "base_uri": "https://localhost:8080/"
        },
        "id": "2zjcV2N1tcn3",
        "outputId": "7c88f522-e9ea-4969-e877-de5be25b9000"
      },
      "execution_count": null,
      "outputs": [
        {
          "output_type": "stream",
          "name": "stdout",
          "text": [
            "Model's accuracy: 0.9707865168539326\n"
          ]
        }
      ]
    },
    {
      "cell_type": "markdown",
      "source": [
        "K fold-Cross validation Implementation"
      ],
      "metadata": {
        "id": "Bald1wo5WBAH"
      }
    },
    {
      "cell_type": "code",
      "source": [
        "data = list(zip(df['text'], df['category']))\n",
        "\n",
        "K=10\n",
        "f_size = len(data) // K\n",
        "accuracies = 0\n",
        "\n",
        "random.shuffle(data)\n",
        "\n",
        "for f in range(K):\n",
        "\n",
        "  slicing_point_1= f*f_size\n",
        "  slicing_point_2 = (f+1)*f_size\n",
        "\n",
        "  testing_data = data[slicing_point_1:slicing_point_2]\n",
        "\n",
        "  training_data = data[:slicing_point_1] + data[slicing_point_2:]\n",
        "\n",
        "  cl = NaiveBayesClassifier(training_data)\n",
        "\n",
        "  accuracy = cl.accuracy(testing_data)\n",
        "  accuracies += accuracy\n",
        "  print(f\"Fold {f+1} accuracy: {accuracy}\")\n",
        "\n",
        "print(f\"\\nAverage accuracy over 10 folds: {accuracies / K}\\n\")"
      ],
      "metadata": {
        "colab": {
          "base_uri": "https://localhost:8080/"
        },
        "id": "0-Jif6X2KRee",
        "outputId": "687e5505-7d61-4c75-924b-9f2682f1cb90"
      },
      "execution_count": null,
      "outputs": [
        {
          "output_type": "stream",
          "name": "stdout",
          "text": [
            "Fold 1 accuracy: 0.972972972972973\n",
            "Fold 2 accuracy: 0.954954954954955\n",
            "Fold 3 accuracy: 0.9459459459459459\n",
            "Fold 4 accuracy: 0.972972972972973\n",
            "Fold 5 accuracy: 0.9504504504504504\n",
            "Fold 6 accuracy: 0.9594594594594594\n",
            "Fold 7 accuracy: 0.9594594594594594\n",
            "Fold 8 accuracy: 0.963963963963964\n",
            "Fold 9 accuracy: 0.972972972972973\n",
            "Fold 10 accuracy: 0.9819819819819819\n",
            "\n",
            "Average accuracy over 10 folds: 0.9635135135135136\n",
            "\n"
          ]
        }
      ]
    }
  ]
}