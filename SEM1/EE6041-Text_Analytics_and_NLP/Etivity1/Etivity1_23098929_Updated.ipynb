{
  "nbformat": 4,
  "nbformat_minor": 0,
  "metadata": {
    "colab": {
      "provenance": []
    },
    "kernelspec": {
      "name": "python3",
      "display_name": "Python 3"
    },
    "language_info": {
      "name": "python"
    }
  },
  "cells": [
    {
      "cell_type": "markdown",
      "source": [
        "###Updated file\n",
        "* Name: Muhammad Khubaib Akram\n",
        "* ID: 23098929\n"
      ],
      "metadata": {
        "id": "zACdOYd99A36"
      }
    },
    {
      "cell_type": "code",
      "execution_count": null,
      "metadata": {
        "colab": {
          "base_uri": "https://localhost:8080/"
        },
        "id": "3j7bx5WJ8mPk",
        "outputId": "cf3b1a27-496d-4195-b3cd-cbecc6e3d8bd"
      },
      "outputs": [
        {
          "output_type": "stream",
          "name": "stdout",
          "text": [
            "--2023-09-24 02:10:12--  https://gist.githubusercontent.com/ajoorabchi/eac194a79dd26de8864f9206b7842ff1/raw/8ea1d8d5f74b5b2724e378b43d4df6094990c7db/Eircode%2520Routing%2520Key%2520Boundaries.csv\n",
            "Resolving gist.githubusercontent.com (gist.githubusercontent.com)... 185.199.108.133, 185.199.109.133, 185.199.110.133, ...\n",
            "Connecting to gist.githubusercontent.com (gist.githubusercontent.com)|185.199.108.133|:443... connected.\n",
            "HTTP request sent, awaiting response... 200 OK\n",
            "Length: 1934 (1.9K) [text/plain]\n",
            "Saving to: ‘Eircode Routing Key Boundaries.csv.1’\n",
            "\n",
            "\r          Eircode R   0%[                    ]       0  --.-KB/s               \rEircode Routing Key 100%[===================>]   1.89K  --.-KB/s    in 0s      \n",
            "\n",
            "2023-09-24 02:10:12 (32.7 MB/s) - ‘Eircode Routing Key Boundaries.csv.1’ saved [1934/1934]\n",
            "\n"
          ]
        }
      ],
      "source": [
        "import re\n",
        "import csv\n",
        "\n",
        "!wget https://gist.githubusercontent.com/ajoorabchi/eac194a79dd26de8864f9206b7842ff1/raw/8ea1d8d5f74b5b2724e378b43d4df6094990c7db/Eircode%2520Routing%2520Key%2520Boundaries.csv\n",
        "filePath = '/content/Eircode Routing Key Boundaries.csv'\n",
        "\n",
        "with open(filePath, 'r') as f:\n",
        "  reader = csv.reader(f)\n",
        "  keyRouteList = list(map(tuple,reader))"
      ]
    },
    {
      "cell_type": "code",
      "source": [
        "# Functions\n",
        "def getGeographicalDistrict(routingKey):\n",
        "  \"\"\"This function returns the Geographical District according to the RoutingKey of Eircpde if its available\"\"\"\n",
        "\n",
        "  for element in keyRouteList:\n",
        "      if element[0] == routingKey:\n",
        "        return element[1]\n",
        "\n"
      ],
      "metadata": {
        "id": "odaTrWFC8oRj"
      },
      "execution_count": null,
      "outputs": []
    },
    {
      "cell_type": "code",
      "source": [
        "def eircodeValidator(eircode):\n",
        "  \"\"\"This function validates the Eircode and prints out the Eircode's geographical district.\n",
        "  If Eircode is invalid, it prints 'Invalid Error'\"\"\"\n",
        "\n",
        "  #Regular Expression\n",
        "  reg= '^\\s*(?P<routingKey>[A-Z][A-Z0-9]{2})[- ]?(?P<uniqueIdentifier>[A-Z0-9]{4})\\s*$'\n",
        "\n",
        "  # Filtering Eircode using Regex\n",
        "  search_result = re.search(reg, eircode)\n",
        "\n",
        "  # If Search exists then get the Geographical District according to Routing key\n",
        "  if search_result:\n",
        "\n",
        "    #Getting routing and uniqueIdentifier groups\n",
        "    routing = search_result.group(\"routingKey\")\n",
        "    identifier = search_result.group(\"uniqueIdentifier\")\n",
        "\n",
        "\n",
        "    #Getting District from the func getGeographicalDistrict\n",
        "    district = getGeographicalDistrict(routing)\n",
        "\n",
        "    # If district is found then print it\n",
        "    if district:\n",
        "\n",
        "      print(\"EirCode({}) is valid. Routing Key is '{}' and Identifier is '{}'\".format(eircode, routing, identifier))\n",
        "      print(\"Geographical District of EirCode(\",eircode ,\") is: \", district)\n",
        "      print( \"-------------------------------------------\")\n",
        "\n",
        "    # if District is not found\n",
        "    else:\n",
        "      print(\"***Eircode Not Found***\\n----------------------------------\")\n",
        "\n",
        "  # If Search is None than return Invalid Eircode\n",
        "  else:\n",
        "    print(\"***INVALID EIRCODE*** \\n-------------------------------------\")\n"
      ],
      "metadata": {
        "id": "hZx3JrbA8rqm"
      },
      "execution_count": null,
      "outputs": []
    },
    {
      "cell_type": "code",
      "source": [
        "eircodeValidator(\"V00-T9PX\")\n",
        "eircodeValidator(\"V94-T9PX\")\n",
        "eircodeValidator(\"V94 T9PX\")\n",
        "eircodeValidator(\"v94 T9PX\")\n",
        "eircodeValidator(\" V94-T9PX\")\n",
        "eircodeValidator(\"V94-T9PX \")\n",
        "eircodeValidator(\"V94T9PX\")\n",
        "eircodeValidator(\"V94---T9PX\")\n",
        "eircodeValidator(\"V94   T9PX\")\n",
        "eircodeValidator(\"   V94 T9PX\")\n"
      ],
      "metadata": {
        "colab": {
          "base_uri": "https://localhost:8080/"
        },
        "id": "sOyd9tQy81jQ",
        "outputId": "de8c2b37-01fc-4a6a-b85b-348f49c7861b"
      },
      "execution_count": null,
      "outputs": [
        {
          "output_type": "stream",
          "name": "stdout",
          "text": [
            "***Eircode Not Found***\n",
            "----------------------------------\n",
            "EirCode(V94-T9PX) is valid. Routing Key is 'V94' and Identifier is 'T9PX'\n",
            "Geographical District of EirCode( V94-T9PX ) is:  LIMERICK\n",
            "-------------------------------------------\n",
            "EirCode(V94 T9PX) is valid. Routing Key is 'V94' and Identifier is 'T9PX'\n",
            "Geographical District of EirCode( V94 T9PX ) is:  LIMERICK\n",
            "-------------------------------------------\n",
            "***INVALID EIRCODE*** \n",
            "-------------------------------------\n",
            "EirCode( V94-T9PX) is valid. Routing Key is 'V94' and Identifier is 'T9PX'\n",
            "Geographical District of EirCode(  V94-T9PX ) is:  LIMERICK\n",
            "-------------------------------------------\n",
            "EirCode(V94-T9PX ) is valid. Routing Key is 'V94' and Identifier is 'T9PX'\n",
            "Geographical District of EirCode( V94-T9PX  ) is:  LIMERICK\n",
            "-------------------------------------------\n",
            "EirCode(V94T9PX) is valid. Routing Key is 'V94' and Identifier is 'T9PX'\n",
            "Geographical District of EirCode( V94T9PX ) is:  LIMERICK\n",
            "-------------------------------------------\n",
            "***INVALID EIRCODE*** \n",
            "-------------------------------------\n",
            "***INVALID EIRCODE*** \n",
            "-------------------------------------\n",
            "EirCode(   V94 T9PX) is valid. Routing Key is 'V94' and Identifier is 'T9PX'\n",
            "Geographical District of EirCode(    V94 T9PX ) is:  LIMERICK\n",
            "-------------------------------------------\n"
          ]
        }
      ]
    }
  ]
}