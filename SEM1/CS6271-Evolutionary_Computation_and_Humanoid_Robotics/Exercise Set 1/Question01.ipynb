{
  "cells": [
    {
      "cell_type": "markdown",
      "source": [
        "* Muhammad Khubaib Akram\n",
        "* 23098929"
      ],
      "metadata": {
        "id": "c4nVpKcO6aKQ"
      }
    },
    {
      "cell_type": "markdown",
      "metadata": {
        "id": "e5pUuTVJtg8Z"
      },
      "source": [
        "   # GA applied to OneMax"
      ]
    },
    {
      "cell_type": "markdown",
      "metadata": {
        "id": "Ez1ouAuptg82"
      },
      "source": [
        "This notebook implements a simple GA in a fairly lowlevel way. In later examples we'll use more highlevel operators, but it is a very valuable exercise to ensure you understand what this code is actually doing. Make sure you understand the processes below before moving to the more high-level toolboxes!"
      ]
    },
    {
      "cell_type": "markdown",
      "metadata": {
        "id": "9tz71aOOtg86"
      },
      "source": [
        "Install DEAP. Note that if you are running this on your own computer you might not need to do this. In fact, it is better practice to install it so that it is always available, but when running on Colab, we do need this."
      ]
    },
    {
      "cell_type": "code",
      "execution_count": 193,
      "metadata": {
        "colab": {
          "base_uri": "https://localhost:8080/"
        },
        "id": "yvMNuTeFtg89",
        "outputId": "a86ddb1f-0a92-4a38-99e4-1ce19a8d285d"
      },
      "outputs": [
        {
          "output_type": "stream",
          "name": "stdout",
          "text": [
            "Requirement already satisfied: deap in /usr/local/lib/python3.10/dist-packages (1.4.1)\n",
            "Requirement already satisfied: numpy in /usr/local/lib/python3.10/dist-packages (from deap) (1.23.5)\n"
          ]
        }
      ],
      "source": [
        "!pip install deap"
      ]
    },
    {
      "cell_type": "markdown",
      "metadata": {
        "id": "rtQNG3nvtg9F"
      },
      "source": [
        "Import the DEAP tools and useful libraries (random and matplotlib)."
      ]
    },
    {
      "cell_type": "code",
      "execution_count": 194,
      "metadata": {
        "id": "F5Mt1pL2tg9J"
      },
      "outputs": [],
      "source": [
        "from deap import base\n",
        "from deap import creator\n",
        "from deap import tools\n",
        "\n",
        "import random\n",
        "\n",
        "import matplotlib.pyplot as plt"
      ]
    },
    {
      "cell_type": "markdown",
      "metadata": {
        "id": "YgXr548ltg9N"
      },
      "source": [
        "Set our Genetic Algorithm parameters"
      ]
    },
    {
      "cell_type": "code",
      "execution_count": 195,
      "metadata": {
        "id": "NmHk0Boetg9R"
      },
      "outputs": [],
      "source": [
        "# Genetic Algorithm constants:\n",
        "POPULATION_SIZE = 150\n",
        "P_CROSSOVER = 0.7  # probability for crossover\n",
        "P_MUTATION = 0.01   # probability for mutating an individual\n",
        "MAX_GENERATIONS = 135\n",
        "\n",
        "#Population 150 - Generation 135: Max Fitness = 50.0, Avg Fitness = 46.24 || Pop*No_Gen = 20250\n",
        "#Population 100 - Generation 72: Max Fitness = 44.0, Avg Fitness = 40.14\n",
        "#Population 80 - Generation 57: Max Fitness = 41.0, Avg Fitness = 35.7875\n",
        "#Population 120 - Generation 63: Max Fitness = 45.0, , Avg Fitness = 37.03333333333333"
      ]
    },
    {
      "cell_type": "markdown",
      "metadata": {
        "id": "UeVtRmCRtg9V"
      },
      "source": [
        "Set any problem-specific constants here. In this case we need to know how long the string is."
      ]
    },
    {
      "cell_type": "code",
      "execution_count": 196,
      "metadata": {
        "id": "AU99hTsctg9Y"
      },
      "outputs": [],
      "source": [
        "ONE_MAX_LENGTH = 50  # length of bit string to be optimized"
      ]
    },
    {
      "cell_type": "markdown",
      "metadata": {
        "id": "gZhL_Pjctg9b"
      },
      "source": [
        "Set the random seed. This is important so that we can reproduce runs later on."
      ]
    },
    {
      "cell_type": "code",
      "execution_count": 197,
      "metadata": {
        "id": "i3F9ZzT2tg9b"
      },
      "outputs": [],
      "source": [
        "RANDOM_SEED = 42\n",
        "random.seed(RANDOM_SEED)"
      ]
    },
    {
      "cell_type": "markdown",
      "metadata": {
        "id": "cM5zf3Xptg9c"
      },
      "source": [
        "Create our toolbox. Note that we can pull in a bunch of predefined operators to tailor our Evolutionary Algorithm, which, of course, in this case is a GA. Notice that it is possible to create our **own** operators and functions to use, which is what we do with our **oneMaxFitness** function below."
      ]
    },
    {
      "cell_type": "code",
      "execution_count": 198,
      "metadata": {
        "colab": {
          "base_uri": "https://localhost:8080/"
        },
        "id": "fFzLoadXtg9d",
        "outputId": "0f41b22e-b183-45a3-da72-56b8f904fc9a"
      },
      "outputs": [
        {
          "output_type": "stream",
          "name": "stderr",
          "text": [
            "/usr/local/lib/python3.10/dist-packages/deap/creator.py:185: RuntimeWarning: A class named 'FitnessMax' has already been created and it will be overwritten. Consider deleting previous creation of that class or rename it.\n",
            "  warnings.warn(\"A class named '{0}' has already been created and it \"\n",
            "/usr/local/lib/python3.10/dist-packages/deap/creator.py:185: RuntimeWarning: A class named 'Individual' has already been created and it will be overwritten. Consider deleting previous creation of that class or rename it.\n",
            "  warnings.warn(\"A class named '{0}' has already been created and it \"\n"
          ]
        }
      ],
      "source": [
        "toolbox = base.Toolbox()\n",
        "\n",
        "# create an operator that randomly returns 0 or 1:\n",
        "toolbox.register(\"zeroOrOne\", random.randint, 0, 1)\n",
        "\n",
        "# define a single objective, maximizing fitness strategy:\n",
        "creator.create(\"FitnessMax\", base.Fitness, weights=(1.0,))\n",
        "\n",
        "# create the Individual class based on list:\n",
        "creator.create(\"Individual\", list, fitness=creator.FitnessMax)\n",
        "#creator.create(\"Individual\", array.array, typecode='b', fitness=creator.FitnessMax)\n",
        "\n",
        "# create the individual operator to fill up an Individual instance:\n",
        "toolbox.register(\"individualCreator\", tools.initRepeat, creator.Individual, toolbox.zeroOrOne, ONE_MAX_LENGTH)\n",
        "\n",
        "# create the population operator to generate a list of individuals:\n",
        "toolbox.register(\"populationCreator\", tools.initRepeat, list, toolbox.individualCreator)\n",
        "\n",
        "\n",
        "# fitness calculation:\n",
        "# compute the number of '1's in the individual\n",
        "def oneMaxFitness(individual):\n",
        "    return sum(individual),  # return a tuple\n",
        "\n",
        "\n",
        "toolbox.register(\"evaluate\", oneMaxFitness)\n",
        "\n",
        "# genetic operators:\n",
        "\n",
        "# Tournament selection with tournament size of 3:\n",
        "toolbox.register(\"select\", tools.selRoulette)\n",
        "\n",
        "# Single-point crossover:\n",
        "toolbox.register(\"mate\", tools.cxOnePoint)\n",
        "\n",
        "# Flip-bit mutation:\n",
        "# indpb: Independent probability for each attribute to be flipped\n",
        "toolbox.register(\"mutate\", tools.mutFlipBit, indpb=1.0/ONE_MAX_LENGTH)\n",
        "\n"
      ]
    },
    {
      "cell_type": "markdown",
      "metadata": {
        "id": "JwvgGD9btg9f"
      },
      "source": [
        "Here is the main GA loop. We will iterate through it up to the MAX_GENERATIONS parameter and then print out our best individual."
      ]
    },
    {
      "cell_type": "code",
      "execution_count": 199,
      "metadata": {
        "colab": {
          "base_uri": "https://localhost:8080/"
        },
        "id": "jgi4CH3ctg9g",
        "outputId": "3f58f4ec-b05d-4c3a-d1f2-061cabe52d38"
      },
      "outputs": [
        {
          "output_type": "stream",
          "name": "stdout",
          "text": [
            "- Generation 1: Max Fitness = 34.0, Avg Fitness = 25.606666666666666\n",
            "Best Individual =  1 0 1 1 1 1 1 0 0 1 0 1 1 1 1 1 1 0 0 0 1 0 1 1 0 1 1 1 0 1 1 1 0 0 1 1 1 1 1 0 1 0 0 1 1 0 1 1 1 1 \n",
            "\n",
            "- Generation 2: Max Fitness = 34.0, Avg Fitness = 25.393333333333334\n",
            "Best Individual =  1 0 1 1 1 1 1 0 0 1 0 1 1 1 1 1 1 0 0 0 1 0 1 1 0 1 1 1 0 1 1 1 0 0 1 1 1 1 1 0 1 0 0 1 1 0 1 1 1 1 \n",
            "\n",
            "- Generation 3: Max Fitness = 35.0, Avg Fitness = 26.086666666666666\n",
            "Best Individual =  1 0 1 1 1 1 1 0 0 1 0 1 1 1 1 1 1 0 0 0 1 0 1 1 0 1 1 1 0 1 1 1 0 0 1 1 1 1 1 0 1 0 1 1 0 1 1 1 1 1 \n",
            "\n",
            "- Generation 4: Max Fitness = 35.0, Avg Fitness = 26.8\n",
            "Best Individual =  1 0 1 1 1 1 1 0 0 1 0 1 1 1 1 1 1 0 0 0 1 1 1 1 0 1 1 1 0 1 1 1 0 0 1 1 1 1 1 0 1 0 0 1 1 0 1 1 1 1 \n",
            "\n",
            "- Generation 5: Max Fitness = 35.0, Avg Fitness = 27.446666666666665\n",
            "Best Individual =  1 0 1 1 1 1 1 0 0 1 0 1 1 1 1 0 1 1 1 1 1 0 0 0 0 1 0 1 0 1 1 1 0 0 1 1 1 1 1 1 1 0 1 1 0 1 1 1 1 1 \n",
            "\n",
            "- Generation 6: Max Fitness = 35.0, Avg Fitness = 28.086666666666666\n",
            "Best Individual =  0 0 1 1 1 1 1 0 0 1 0 1 1 1 1 1 1 0 0 0 1 0 1 1 0 1 1 1 0 1 1 1 0 0 1 1 1 1 1 1 1 0 1 1 0 1 1 1 1 1 \n",
            "\n",
            "- Generation 7: Max Fitness = 37.0, Avg Fitness = 28.34\n",
            "Best Individual =  1 0 1 1 1 1 1 0 0 1 0 1 1 1 1 1 1 1 1 1 0 1 1 1 1 1 1 1 0 1 1 1 0 0 1 1 1 1 1 1 1 1 0 0 0 1 0 1 0 1 \n",
            "\n",
            "- Generation 8: Max Fitness = 37.0, Avg Fitness = 28.786666666666665\n",
            "Best Individual =  1 0 1 1 1 1 1 0 0 1 0 1 1 1 1 1 0 1 1 1 1 1 0 0 1 1 1 1 1 0 0 1 1 0 0 0 1 1 1 1 1 1 1 1 0 1 1 1 1 1 \n",
            "\n",
            "- Generation 9: Max Fitness = 37.0, Avg Fitness = 29.2\n",
            "Best Individual =  1 0 1 1 1 1 1 0 0 1 0 1 1 1 1 1 0 1 1 1 1 1 0 0 1 1 1 1 1 0 0 1 1 0 0 0 1 1 1 1 1 1 1 1 0 1 1 1 1 1 \n",
            "\n",
            "- Generation 10: Max Fitness = 35.0, Avg Fitness = 29.22\n",
            "Best Individual =  1 1 0 0 0 1 0 0 1 1 1 1 1 1 1 1 1 0 0 0 1 0 1 1 0 1 1 1 0 1 1 1 0 0 1 1 1 1 1 1 1 1 0 1 0 1 1 1 1 1 \n",
            "\n",
            "- Generation 11: Max Fitness = 37.0, Avg Fitness = 29.926666666666666\n",
            "Best Individual =  1 1 1 0 0 0 0 1 1 1 0 1 1 1 1 1 0 1 1 1 0 1 1 1 0 1 1 1 0 1 1 1 0 0 1 1 1 1 1 1 1 0 1 1 0 1 1 1 1 1 \n",
            "\n",
            "- Generation 12: Max Fitness = 36.0, Avg Fitness = 30.313333333333333\n",
            "Best Individual =  1 1 1 0 0 0 0 1 1 1 0 1 1 1 1 1 0 1 1 1 0 1 1 1 0 1 1 1 0 0 1 0 0 1 1 1 1 1 1 1 1 1 0 1 0 1 1 1 1 1 \n",
            "\n",
            "- Generation 13: Max Fitness = 37.0, Avg Fitness = 30.506666666666668\n",
            "Best Individual =  1 1 1 1 0 1 1 0 1 1 0 1 0 1 1 1 0 1 1 1 0 1 1 1 0 1 1 1 0 0 1 0 0 1 1 1 1 1 1 1 1 1 0 1 0 1 1 1 1 1 \n",
            "\n",
            "- Generation 14: Max Fitness = 37.0, Avg Fitness = 30.64\n",
            "Best Individual =  1 0 1 1 1 1 1 0 0 1 0 1 1 1 1 1 0 1 1 1 0 1 1 1 0 1 1 1 0 0 1 0 0 1 1 1 1 1 1 1 1 1 0 1 0 1 1 1 1 1 \n",
            "\n",
            "- Generation 15: Max Fitness = 37.0, Avg Fitness = 30.69333333333333\n",
            "Best Individual =  1 0 1 1 1 1 1 0 0 1 0 1 1 1 1 1 0 1 1 1 0 1 1 1 0 1 1 1 0 0 1 0 0 1 1 1 1 1 1 1 1 1 0 1 0 1 1 1 1 1 \n",
            "\n",
            "- Generation 16: Max Fitness = 37.0, Avg Fitness = 31.013333333333332\n",
            "Best Individual =  0 1 1 0 1 0 1 1 1 1 0 1 1 1 1 1 1 0 1 0 1 0 1 1 0 1 1 1 0 1 1 1 0 0 1 1 0 1 1 1 1 1 1 1 0 1 1 1 1 1 \n",
            "\n",
            "- Generation 17: Max Fitness = 38.0, Avg Fitness = 31.046666666666667\n",
            "Best Individual =  1 0 1 1 1 1 1 0 0 1 1 1 1 1 1 1 1 0 1 0 1 0 1 1 1 1 0 1 1 1 1 1 0 1 1 1 0 1 1 1 1 0 0 1 1 1 1 0 1 1 \n",
            "\n",
            "- Generation 18: Max Fitness = 40.0, Avg Fitness = 31.54\n",
            "Best Individual =  1 1 1 1 1 1 0 1 1 1 1 1 1 1 1 1 1 1 0 0 1 0 1 1 1 1 1 0 1 1 0 0 1 1 1 1 1 1 1 1 1 0 1 1 1 0 1 0 1 1 \n",
            "\n",
            "- Generation 19: Max Fitness = 40.0, Avg Fitness = 31.69333333333333\n",
            "Best Individual =  1 1 1 1 1 1 0 1 1 1 1 1 1 1 1 1 1 1 0 0 1 0 1 1 1 1 1 0 1 1 0 0 1 1 1 1 1 1 1 1 1 0 1 1 1 1 1 1 0 0 \n",
            "\n",
            "- Generation 20: Max Fitness = 40.0, Avg Fitness = 32.26\n",
            "Best Individual =  1 1 1 1 1 1 0 1 1 1 1 1 1 1 1 1 1 1 0 0 1 0 1 1 1 1 1 0 1 1 0 0 1 1 1 1 1 1 1 1 1 0 1 1 1 1 1 1 0 0 \n",
            "\n",
            "- Generation 21: Max Fitness = 38.0, Avg Fitness = 32.406666666666666\n",
            "Best Individual =  1 1 1 1 1 1 1 0 0 1 1 0 1 1 1 1 1 0 1 0 1 0 1 1 1 1 0 1 1 1 1 1 0 1 1 1 0 1 1 1 1 0 0 1 1 1 1 0 1 1 \n",
            "\n",
            "- Generation 22: Max Fitness = 39.0, Avg Fitness = 32.593333333333334\n",
            "Best Individual =  1 1 1 1 1 1 1 0 0 1 1 0 1 1 1 1 1 0 1 0 1 0 1 1 1 1 0 1 1 1 1 0 1 1 0 0 1 1 1 1 1 1 1 1 1 1 1 0 1 1 \n",
            "\n",
            "- Generation 23: Max Fitness = 40.0, Avg Fitness = 32.72666666666667\n",
            "Best Individual =  1 0 1 1 1 1 1 1 1 1 0 1 1 1 1 1 1 0 1 0 1 0 1 1 1 1 0 1 1 1 1 0 1 1 0 0 1 1 1 1 1 1 1 1 1 1 1 0 1 1 \n",
            "\n",
            "- Generation 24: Max Fitness = 40.0, Avg Fitness = 33.2\n",
            "Best Individual =  1 0 1 1 1 1 1 1 1 1 0 1 1 1 1 1 1 0 1 0 1 0 1 1 1 1 0 1 1 1 1 0 1 1 0 0 1 1 1 1 1 1 1 1 1 1 1 0 1 1 \n",
            "\n",
            "- Generation 25: Max Fitness = 40.0, Avg Fitness = 33.586666666666666\n",
            "Best Individual =  0 1 1 1 1 1 1 1 1 1 0 1 1 1 1 1 1 0 1 0 1 0 1 1 1 1 0 1 1 1 1 0 1 1 0 0 1 1 1 1 1 1 1 1 1 1 1 0 1 1 \n",
            "\n",
            "- Generation 26: Max Fitness = 40.0, Avg Fitness = 34.29333333333334\n",
            "Best Individual =  0 1 1 0 1 0 1 1 1 1 1 1 1 1 1 1 0 1 1 1 0 1 1 1 0 1 1 1 1 1 1 0 1 1 0 0 1 1 1 1 1 1 1 1 1 1 1 0 1 1 \n",
            "\n",
            "- Generation 27: Max Fitness = 41.0, Avg Fitness = 34.78\n",
            "Best Individual =  1 0 1 1 1 1 1 1 0 1 1 1 1 1 1 1 1 1 1 0 1 0 1 1 1 1 0 1 1 1 1 0 1 1 0 0 1 1 1 1 1 1 1 1 1 1 1 0 1 1 \n",
            "\n",
            "- Generation 28: Max Fitness = 41.0, Avg Fitness = 34.94\n",
            "Best Individual =  1 0 1 1 1 1 1 1 1 1 0 1 1 1 1 1 1 0 1 0 1 0 1 1 1 1 0 1 1 1 1 0 1 1 1 1 1 1 1 1 1 0 1 1 1 1 1 0 1 1 \n",
            "\n",
            "- Generation 29: Max Fitness = 42.0, Avg Fitness = 35.64666666666667\n",
            "Best Individual =  1 0 1 1 1 1 1 1 0 1 1 1 1 1 1 1 1 1 1 0 1 0 1 1 1 1 0 1 1 1 1 0 1 1 0 0 1 1 1 1 1 1 1 1 1 1 1 1 1 1 \n",
            "\n",
            "- Generation 30: Max Fitness = 41.0, Avg Fitness = 35.75333333333333\n",
            "Best Individual =  1 0 1 1 1 1 1 1 0 1 1 1 1 1 1 1 1 1 1 0 1 0 1 1 0 1 1 1 0 1 1 1 0 0 1 0 1 1 1 1 1 1 1 1 1 1 1 1 1 1 \n",
            "\n",
            "- Generation 31: Max Fitness = 41.0, Avg Fitness = 36.31333333333333\n",
            "Best Individual =  1 1 1 1 1 1 1 0 0 1 1 1 1 1 1 1 1 0 0 0 1 0 1 1 0 1 1 1 1 1 1 1 0 1 1 1 1 1 1 1 1 1 1 1 1 1 1 0 1 1 \n",
            "\n",
            "- Generation 32: Max Fitness = 42.0, Avg Fitness = 36.52\n",
            "Best Individual =  0 1 1 1 0 1 1 0 0 1 1 1 1 1 1 1 1 1 1 1 1 1 1 1 0 1 1 1 0 1 1 1 0 0 1 1 1 1 1 1 1 1 1 1 1 1 1 1 1 1 \n",
            "\n",
            "- Generation 33: Max Fitness = 42.0, Avg Fitness = 36.36666666666667\n",
            "Best Individual =  0 1 1 1 1 1 1 0 0 1 1 1 1 1 1 1 1 1 1 1 1 0 1 1 1 1 0 1 1 1 1 0 1 1 1 1 1 1 1 1 1 0 1 1 1 1 1 0 1 1 \n",
            "\n",
            "- Generation 34: Max Fitness = 42.0, Avg Fitness = 36.58\n",
            "Best Individual =  1 1 1 1 1 1 1 0 0 1 1 1 1 1 1 1 1 1 1 0 1 0 1 1 0 1 1 1 0 1 1 1 0 0 1 1 1 1 1 1 1 1 1 1 1 1 1 1 1 1 \n",
            "\n",
            "- Generation 35: Max Fitness = 42.0, Avg Fitness = 36.94\n",
            "Best Individual =  1 1 1 1 1 1 1 0 0 1 1 1 1 1 1 1 1 1 1 0 1 0 1 1 0 1 1 1 0 1 1 1 0 0 1 1 1 1 1 1 1 1 1 1 1 1 1 1 1 1 \n",
            "\n",
            "- Generation 36: Max Fitness = 43.0, Avg Fitness = 37.193333333333335\n",
            "Best Individual =  1 0 1 1 1 1 1 1 1 1 0 1 1 1 1 1 1 1 1 1 1 0 1 1 1 1 0 1 1 1 1 0 1 1 1 1 1 1 1 1 1 0 1 1 1 1 1 0 1 1 \n",
            "\n",
            "- Generation 37: Max Fitness = 43.0, Avg Fitness = 37.21333333333333\n",
            "Best Individual =  1 1 1 1 1 1 1 1 0 1 1 1 1 1 1 1 1 0 1 0 0 1 1 1 0 1 1 1 1 1 1 1 0 1 1 1 1 1 1 1 1 1 1 1 1 1 1 0 1 1 \n",
            "\n",
            "- Generation 38: Max Fitness = 42.0, Avg Fitness = 37.413333333333334\n",
            "Best Individual =  1 1 1 1 1 1 1 0 0 1 1 0 1 1 1 1 1 1 1 1 1 0 1 1 1 1 1 0 1 1 1 1 0 1 1 1 1 1 0 1 1 1 1 1 1 1 1 0 1 1 \n",
            "\n",
            "- Generation 39: Max Fitness = 43.0, Avg Fitness = 37.43333333333333\n",
            "Best Individual =  0 1 1 1 1 1 1 1 1 1 0 1 1 1 1 1 1 1 1 1 1 0 1 1 1 1 1 0 1 1 1 1 0 1 1 1 1 1 1 1 1 0 1 1 1 1 1 0 1 1 \n",
            "\n",
            "- Generation 40: Max Fitness = 43.0, Avg Fitness = 37.526666666666664\n",
            "Best Individual =  1 1 1 1 1 1 1 1 0 1 1 1 1 1 1 1 1 1 0 0 1 1 1 1 1 0 0 1 0 1 1 1 1 1 1 1 1 1 1 1 1 1 1 1 1 1 1 0 1 1 \n",
            "\n",
            "- Generation 41: Max Fitness = 44.0, Avg Fitness = 37.53333333333333\n",
            "Best Individual =  1 1 1 1 1 1 1 1 0 1 1 1 1 1 1 1 1 1 1 1 1 0 1 1 1 1 0 1 1 1 1 0 1 1 1 1 1 1 1 1 1 0 1 1 1 1 1 0 1 1 \n",
            "\n",
            "- Generation 42: Max Fitness = 45.0, Avg Fitness = 38.31333333333333\n",
            "Best Individual =  1 1 1 1 1 1 1 1 0 1 1 1 1 1 1 1 1 1 1 1 1 0 1 1 1 1 1 1 0 1 1 1 0 1 1 1 1 1 1 1 1 1 1 1 1 1 1 0 1 1 \n",
            "\n",
            "- Generation 43: Max Fitness = 45.0, Avg Fitness = 38.846666666666664\n",
            "Best Individual =  1 1 1 1 1 1 1 1 0 1 1 1 1 1 1 1 1 1 1 1 1 0 1 1 1 1 1 1 0 1 1 1 0 1 1 1 1 1 1 1 1 1 1 1 1 1 1 0 1 1 \n",
            "\n",
            "- Generation 44: Max Fitness = 44.0, Avg Fitness = 38.62\n",
            "Best Individual =  1 1 1 1 1 1 1 1 0 1 1 1 1 1 1 1 1 1 1 1 1 0 1 1 1 1 0 1 1 1 1 0 1 1 1 1 1 1 1 1 1 0 1 1 1 1 1 0 1 1 \n",
            "\n",
            "- Generation 45: Max Fitness = 44.0, Avg Fitness = 38.88\n",
            "Best Individual =  1 1 1 1 1 1 1 1 0 1 1 1 1 1 1 1 0 1 1 1 0 1 1 1 1 1 1 1 0 1 1 1 0 1 1 1 1 1 1 1 1 1 1 1 1 1 1 0 1 1 \n",
            "\n",
            "- Generation 46: Max Fitness = 44.0, Avg Fitness = 39.086666666666666\n",
            "Best Individual =  1 0 1 1 1 1 1 1 0 1 1 1 1 1 1 1 1 1 1 1 0 1 1 1 0 1 1 1 1 1 1 1 0 1 1 1 1 1 1 1 1 1 1 1 1 1 1 0 1 1 \n",
            "\n",
            "- Generation 47: Max Fitness = 45.0, Avg Fitness = 39.486666666666665\n",
            "Best Individual =  1 1 1 1 1 1 1 1 0 1 0 1 1 1 1 1 1 1 1 1 0 1 1 1 0 1 1 1 1 1 1 1 0 1 1 1 1 1 1 1 1 1 1 1 1 1 1 1 1 1 \n",
            "\n",
            "- Generation 48: Max Fitness = 44.0, Avg Fitness = 39.36\n",
            "Best Individual =  1 1 1 1 1 1 1 1 0 1 1 1 1 1 1 1 1 1 1 1 0 1 1 1 1 1 1 1 1 1 1 0 1 1 1 1 1 1 1 1 1 1 0 0 0 1 1 1 1 1 \n",
            "\n",
            "- Generation 49: Max Fitness = 46.0, Avg Fitness = 39.626666666666665\n",
            "Best Individual =  1 1 1 1 1 1 1 1 0 1 1 1 1 1 1 1 1 1 1 1 1 1 1 1 1 1 1 1 0 1 1 1 0 1 1 1 1 1 1 1 1 1 1 1 1 1 1 0 1 1 \n",
            "\n",
            "- Generation 50: Max Fitness = 46.0, Avg Fitness = 40.086666666666666\n",
            "Best Individual =  1 1 1 1 1 1 1 1 1 1 1 1 1 1 1 1 1 1 1 1 0 1 1 1 0 1 1 1 1 1 1 1 0 1 1 1 1 1 1 1 1 1 1 1 1 1 1 0 1 1 \n",
            "\n",
            "- Generation 51: Max Fitness = 46.0, Avg Fitness = 40.12\n",
            "Best Individual =  1 1 1 1 1 1 1 1 1 1 1 1 1 1 1 1 1 1 1 1 0 1 1 1 0 1 1 1 1 1 1 1 0 1 1 1 1 1 1 1 1 1 1 1 1 1 1 0 1 1 \n",
            "\n",
            "- Generation 52: Max Fitness = 46.0, Avg Fitness = 39.9\n",
            "Best Individual =  1 1 1 1 1 1 1 1 1 1 1 1 1 1 1 1 1 1 1 1 0 1 1 1 0 1 1 1 1 1 1 1 0 1 1 1 1 1 1 1 1 1 1 1 1 1 1 0 1 1 \n",
            "\n",
            "- Generation 53: Max Fitness = 45.0, Avg Fitness = 39.94\n",
            "Best Individual =  0 1 1 1 1 1 1 1 0 1 1 1 1 1 1 1 1 1 1 1 0 1 1 1 1 1 1 1 1 1 1 1 1 1 1 1 1 1 1 1 1 1 0 1 1 1 1 0 1 1 \n",
            "\n",
            "- Generation 54: Max Fitness = 46.0, Avg Fitness = 40.12\n",
            "Best Individual =  1 1 1 1 1 1 1 1 0 1 1 1 1 1 1 1 1 1 1 1 0 1 1 1 1 1 1 1 1 1 1 1 1 1 1 1 1 1 1 1 1 1 0 1 1 1 1 0 1 1 \n",
            "\n",
            "- Generation 55: Max Fitness = 44.0, Avg Fitness = 39.92666666666667\n",
            "Best Individual =  1 1 1 1 1 1 1 1 0 1 1 1 1 1 1 1 1 1 1 1 0 1 1 1 1 1 0 1 0 1 1 1 0 1 1 1 1 1 1 1 1 1 1 1 1 1 1 0 1 1 \n",
            "\n",
            "- Generation 56: Max Fitness = 46.0, Avg Fitness = 40.153333333333336\n",
            "Best Individual =  1 1 1 1 1 1 1 1 0 1 1 1 1 1 1 1 1 1 1 1 1 0 1 1 1 1 1 1 1 1 1 0 1 1 1 1 1 1 1 1 1 1 1 1 1 1 1 0 1 1 \n",
            "\n",
            "- Generation 57: Max Fitness = 46.0, Avg Fitness = 40.32\n",
            "Best Individual =  1 1 1 1 1 1 1 1 0 1 1 1 1 1 1 1 1 1 1 1 1 0 1 1 1 1 1 1 1 1 1 0 1 1 1 1 1 1 1 1 1 1 1 1 1 1 1 0 1 1 \n",
            "\n",
            "- Generation 58: Max Fitness = 46.0, Avg Fitness = 40.553333333333335\n",
            "Best Individual =  1 1 1 1 1 1 1 1 0 1 1 1 1 1 1 1 1 1 1 1 1 0 1 1 1 1 1 1 1 1 1 0 1 1 1 1 1 1 1 1 1 1 1 1 1 1 1 0 1 1 \n",
            "\n",
            "- Generation 59: Max Fitness = 46.0, Avg Fitness = 40.6\n",
            "Best Individual =  1 1 1 1 1 1 1 1 0 1 1 1 1 1 1 1 1 1 1 1 1 0 1 1 1 1 1 1 1 1 1 0 1 1 1 1 1 1 1 1 1 1 1 1 0 1 1 1 1 1 \n",
            "\n",
            "- Generation 60: Max Fitness = 46.0, Avg Fitness = 40.53333333333333\n",
            "Best Individual =  1 1 1 1 1 1 1 1 0 1 1 1 1 1 1 1 1 1 1 1 1 0 1 1 1 1 1 1 1 1 1 0 1 1 1 1 1 1 1 1 1 1 1 1 0 1 1 1 1 1 \n",
            "\n",
            "- Generation 61: Max Fitness = 45.0, Avg Fitness = 40.84\n",
            "Best Individual =  1 1 1 1 1 1 1 1 1 1 1 1 1 1 1 1 1 1 1 1 1 0 1 1 0 1 1 1 1 1 1 1 0 1 1 1 1 1 1 1 1 1 0 1 1 1 1 0 1 1 \n",
            "\n",
            "- Generation 62: Max Fitness = 45.0, Avg Fitness = 41.04666666666667\n",
            "Best Individual =  1 1 1 1 1 1 1 1 1 1 1 1 1 1 1 1 0 1 0 0 1 1 1 1 1 1 1 1 1 1 1 1 1 0 1 1 1 1 1 1 1 1 1 1 1 1 1 0 1 1 \n",
            "\n",
            "- Generation 63: Max Fitness = 47.0, Avg Fitness = 41.28\n",
            "Best Individual =  1 1 1 1 1 1 1 1 0 1 1 1 1 1 1 1 1 1 1 1 1 1 1 1 1 1 1 1 1 1 1 1 1 0 1 1 1 1 1 1 1 1 1 1 1 1 1 0 1 1 \n",
            "\n",
            "- Generation 64: Max Fitness = 45.0, Avg Fitness = 41.39333333333333\n",
            "Best Individual =  1 1 1 1 1 1 1 1 1 1 1 1 1 1 1 1 0 1 0 0 1 1 1 1 1 1 1 1 1 1 1 1 1 0 1 1 1 1 1 1 1 1 1 1 1 0 1 1 1 1 \n",
            "\n",
            "- Generation 65: Max Fitness = 45.0, Avg Fitness = 41.58\n",
            "Best Individual =  1 1 1 1 1 1 1 1 1 1 1 1 1 1 1 1 1 1 1 1 1 0 1 1 1 1 0 1 1 1 1 0 1 1 1 1 1 1 1 1 1 1 0 0 1 1 1 1 1 1 \n",
            "\n",
            "- Generation 66: Max Fitness = 46.0, Avg Fitness = 41.413333333333334\n",
            "Best Individual =  1 1 1 1 1 1 1 1 1 1 1 1 1 1 1 1 0 1 0 0 1 1 1 1 1 1 1 1 1 1 1 1 1 1 1 1 1 1 1 1 1 1 1 1 1 0 1 1 1 1 \n",
            "\n",
            "- Generation 67: Max Fitness = 46.0, Avg Fitness = 41.27333333333333\n",
            "Best Individual =  1 1 1 1 1 1 1 1 1 1 1 1 1 1 1 1 1 1 1 1 0 1 1 1 1 1 1 1 0 1 1 1 0 1 1 1 1 1 1 1 1 1 1 1 1 1 1 0 1 1 \n",
            "\n",
            "- Generation 68: Max Fitness = 46.0, Avg Fitness = 41.3\n",
            "Best Individual =  1 1 1 1 1 1 1 1 1 1 1 1 1 1 1 1 1 0 1 1 1 1 1 1 1 1 1 1 1 1 1 1 0 1 1 1 1 1 1 1 1 1 0 1 1 1 1 0 1 1 \n",
            "\n",
            "- Generation 69: Max Fitness = 46.0, Avg Fitness = 41.53333333333333\n",
            "Best Individual =  1 1 1 1 1 1 1 1 1 1 1 1 1 1 1 1 0 1 1 0 1 1 1 1 1 1 1 1 1 1 1 1 1 0 1 1 1 1 1 1 1 1 0 1 1 1 1 1 1 1 \n",
            "\n",
            "- Generation 70: Max Fitness = 47.0, Avg Fitness = 41.72\n",
            "Best Individual =  1 1 1 1 1 1 1 1 1 1 1 1 1 1 1 1 1 0 1 1 1 1 1 1 1 1 1 1 1 1 1 1 1 1 1 1 1 1 1 1 0 1 1 1 1 1 1 0 1 1 \n",
            "\n",
            "- Generation 71: Max Fitness = 48.0, Avg Fitness = 42.18666666666667\n",
            "Best Individual =  1 1 1 1 1 1 1 1 1 1 1 1 1 1 1 1 1 0 1 1 1 1 1 1 1 1 1 1 1 1 1 1 1 1 1 1 1 1 1 1 1 1 1 1 1 1 1 0 1 1 \n",
            "\n",
            "- Generation 72: Max Fitness = 48.0, Avg Fitness = 42.45333333333333\n",
            "Best Individual =  1 1 1 1 1 1 1 1 1 1 1 1 1 1 1 1 1 0 1 1 1 1 1 1 1 1 1 1 1 1 1 1 1 1 1 1 1 1 1 1 1 1 1 1 1 1 1 0 1 1 \n",
            "\n",
            "- Generation 73: Max Fitness = 47.0, Avg Fitness = 42.74\n",
            "Best Individual =  1 1 1 1 1 1 1 1 1 1 1 1 1 1 1 1 1 1 1 1 1 0 1 1 1 1 1 1 1 1 1 1 0 1 1 1 1 1 1 1 1 1 1 1 1 1 1 0 1 1 \n",
            "\n",
            "- Generation 74: Max Fitness = 48.0, Avg Fitness = 43.06\n",
            "Best Individual =  1 1 1 1 1 1 1 1 1 1 1 1 1 1 1 1 1 0 1 1 1 1 1 1 1 1 1 1 1 1 1 1 1 1 1 1 1 1 1 1 1 1 0 1 1 1 1 1 1 1 \n",
            "\n",
            "- Generation 75: Max Fitness = 48.0, Avg Fitness = 43.086666666666666\n",
            "Best Individual =  1 1 1 1 1 1 1 1 1 1 1 1 1 1 1 1 1 0 1 1 1 1 1 1 1 1 1 1 1 1 1 1 0 1 1 1 1 1 1 1 1 1 1 1 1 1 1 1 1 1 \n",
            "\n",
            "- Generation 76: Max Fitness = 47.0, Avg Fitness = 42.74666666666667\n",
            "Best Individual =  1 1 1 1 1 1 1 1 1 1 1 1 1 1 1 1 0 1 1 1 0 1 1 1 1 1 1 1 1 1 1 1 1 1 1 1 1 1 1 1 1 1 1 1 1 1 1 0 1 1 \n",
            "\n",
            "- Generation 77: Max Fitness = 47.0, Avg Fitness = 42.553333333333335\n",
            "Best Individual =  1 1 1 1 1 1 1 1 1 1 1 1 1 1 1 1 1 1 1 1 1 0 1 1 1 1 1 0 1 1 1 1 1 1 1 1 1 1 1 1 1 1 1 1 1 1 1 0 1 1 \n",
            "\n",
            "- Generation 78: Max Fitness = 47.0, Avg Fitness = 42.34\n",
            "Best Individual =  1 1 1 1 1 1 1 1 1 1 1 1 1 1 1 1 1 1 1 1 1 0 1 1 1 1 1 0 1 1 1 1 1 1 1 1 1 1 1 1 1 1 1 1 1 1 1 0 1 1 \n",
            "\n",
            "- Generation 79: Max Fitness = 47.0, Avg Fitness = 42.26\n",
            "Best Individual =  1 1 1 1 1 1 1 1 1 1 1 1 1 1 1 1 1 0 1 1 0 1 1 1 1 1 1 1 1 1 1 1 1 1 1 1 1 1 1 1 1 1 1 1 1 1 1 0 1 1 \n",
            "\n",
            "- Generation 80: Max Fitness = 47.0, Avg Fitness = 42.24666666666667\n",
            "Best Individual =  1 1 1 1 1 0 1 1 1 1 0 1 1 1 1 1 1 0 1 1 1 1 1 1 1 1 1 1 1 1 1 1 1 1 1 1 1 1 1 1 1 1 1 1 1 1 1 1 1 1 \n",
            "\n",
            "- Generation 81: Max Fitness = 48.0, Avg Fitness = 42.026666666666664\n",
            "Best Individual =  1 1 1 1 1 1 1 1 1 1 1 1 1 0 1 1 1 1 1 1 1 1 1 1 1 1 1 1 1 1 1 1 1 0 1 1 1 1 1 1 1 1 1 1 1 1 1 1 1 1 \n",
            "\n",
            "- Generation 82: Max Fitness = 47.0, Avg Fitness = 42.13333333333333\n",
            "Best Individual =  1 1 1 1 1 1 1 1 1 1 1 1 1 1 1 1 1 0 1 1 1 0 1 1 1 1 1 0 1 1 1 1 1 1 1 1 1 1 1 1 1 1 1 1 1 1 1 1 1 1 \n",
            "\n",
            "- Generation 83: Max Fitness = 47.0, Avg Fitness = 41.986666666666665\n",
            "Best Individual =  1 1 1 1 1 1 1 1 1 1 1 1 1 1 1 1 1 1 1 1 1 1 1 1 1 1 1 0 1 1 1 1 1 1 1 1 1 1 1 1 1 1 1 1 1 0 1 0 1 1 \n",
            "\n",
            "- Generation 84: Max Fitness = 48.0, Avg Fitness = 42.08\n",
            "Best Individual =  1 1 1 1 1 1 1 1 1 1 1 1 1 1 1 1 1 1 1 1 1 1 1 1 1 1 1 0 1 1 1 1 1 1 1 1 1 1 1 1 1 1 1 1 1 0 1 1 1 1 \n",
            "\n",
            "- Generation 85: Max Fitness = 47.0, Avg Fitness = 42.13333333333333\n",
            "Best Individual =  1 1 1 1 1 1 1 1 0 1 1 1 1 1 1 1 1 1 1 1 1 1 1 1 1 1 1 0 1 1 1 1 1 1 1 1 1 1 1 1 1 1 1 1 1 0 1 1 1 1 \n",
            "\n",
            "- Generation 86: Max Fitness = 49.0, Avg Fitness = 42.31333333333333\n",
            "Best Individual =  1 1 1 1 1 1 1 1 1 1 1 1 1 1 1 1 1 1 1 1 1 1 1 1 1 1 1 1 1 1 1 1 1 1 1 1 1 1 1 1 1 1 1 1 1 1 1 0 1 1 \n",
            "\n",
            "- Generation 87: Max Fitness = 48.0, Avg Fitness = 42.833333333333336\n",
            "Best Individual =  1 1 1 1 1 1 1 1 1 1 1 1 1 1 1 1 1 1 1 1 1 1 1 1 1 1 1 1 1 1 1 1 1 1 1 1 1 1 1 1 1 1 0 1 1 1 1 0 1 1 \n",
            "\n",
            "- Generation 88: Max Fitness = 48.0, Avg Fitness = 42.94\n",
            "Best Individual =  1 1 1 1 1 1 1 1 1 1 1 1 1 1 1 1 1 1 1 1 1 1 1 1 1 1 1 1 0 1 1 1 1 1 1 1 1 1 1 1 1 1 1 1 1 1 1 0 1 1 \n",
            "\n",
            "- Generation 89: Max Fitness = 48.0, Avg Fitness = 43.04666666666667\n",
            "Best Individual =  1 1 1 1 1 1 1 1 1 1 1 1 1 1 1 1 1 1 1 1 1 1 1 1 1 1 1 1 1 1 1 1 1 1 1 1 1 1 1 1 1 1 0 1 1 0 1 1 1 1 \n",
            "\n",
            "- Generation 90: Max Fitness = 49.0, Avg Fitness = 43.35333333333333\n",
            "Best Individual =  1 1 1 1 1 1 1 1 1 1 1 1 1 1 1 1 1 1 1 1 1 1 1 1 1 1 1 1 0 1 1 1 1 1 1 1 1 1 1 1 1 1 1 1 1 1 1 1 1 1 \n",
            "\n",
            "- Generation 91: Max Fitness = 49.0, Avg Fitness = 43.406666666666666\n",
            "Best Individual =  1 1 1 1 1 1 1 1 1 1 1 1 1 1 1 1 1 1 1 1 1 1 1 1 1 1 1 1 0 1 1 1 1 1 1 1 1 1 1 1 1 1 1 1 1 1 1 1 1 1 \n",
            "\n",
            "- Generation 92: Max Fitness = 49.0, Avg Fitness = 43.32666666666667\n",
            "Best Individual =  1 1 1 1 1 1 1 1 1 1 1 1 1 1 1 1 1 1 1 1 1 1 1 1 1 1 1 1 0 1 1 1 1 1 1 1 1 1 1 1 1 1 1 1 1 1 1 1 1 1 \n",
            "\n",
            "- Generation 93: Max Fitness = 48.0, Avg Fitness = 43.54666666666667\n",
            "Best Individual =  1 1 1 1 1 1 1 1 1 1 1 1 1 1 1 1 1 1 1 1 1 1 1 1 1 1 1 1 0 1 1 1 1 1 1 1 1 1 1 1 1 0 1 1 1 1 1 1 1 1 \n",
            "\n",
            "- Generation 94: Max Fitness = 49.0, Avg Fitness = 43.38666666666666\n",
            "Best Individual =  1 1 1 1 1 1 1 1 0 1 1 1 1 1 1 1 1 1 1 1 1 1 1 1 1 1 1 1 1 1 1 1 1 1 1 1 1 1 1 1 1 1 1 1 1 1 1 1 1 1 \n",
            "\n",
            "- Generation 95: Max Fitness = 49.0, Avg Fitness = 43.56666666666667\n",
            "Best Individual =  1 1 1 1 1 1 1 1 0 1 1 1 1 1 1 1 1 1 1 1 1 1 1 1 1 1 1 1 1 1 1 1 1 1 1 1 1 1 1 1 1 1 1 1 1 1 1 1 1 1 \n",
            "\n",
            "- Generation 96: Max Fitness = 49.0, Avg Fitness = 43.46\n",
            "Best Individual =  1 1 1 1 1 1 1 1 1 1 1 1 1 1 1 1 1 1 1 1 1 1 1 1 1 1 1 1 1 1 1 1 1 1 1 1 1 1 1 1 1 0 1 1 1 1 1 1 1 1 \n",
            "\n",
            "- Generation 97: Max Fitness = 49.0, Avg Fitness = 43.56666666666667\n",
            "Best Individual =  1 1 1 1 1 1 1 1 0 1 1 1 1 1 1 1 1 1 1 1 1 1 1 1 1 1 1 1 1 1 1 1 1 1 1 1 1 1 1 1 1 1 1 1 1 1 1 1 1 1 \n",
            "\n",
            "- Generation 98: Max Fitness = 49.0, Avg Fitness = 43.72\n",
            "Best Individual =  1 1 1 1 1 1 1 1 1 1 1 1 1 1 1 1 1 1 1 1 1 1 1 1 1 1 1 1 1 1 1 1 1 1 1 1 1 1 1 1 1 1 1 1 1 1 1 0 1 1 \n",
            "\n",
            "- Generation 99: Max Fitness = 49.0, Avg Fitness = 43.70666666666666\n",
            "Best Individual =  1 1 1 1 1 1 1 1 1 1 1 1 1 1 1 1 1 1 1 1 1 1 1 1 1 1 1 1 1 1 1 1 1 1 1 1 1 1 1 1 1 1 1 1 1 1 1 0 1 1 \n",
            "\n",
            "- Generation 100: Max Fitness = 49.0, Avg Fitness = 43.93333333333333\n",
            "Best Individual =  1 1 1 1 1 1 1 1 1 1 1 1 1 1 1 1 1 1 1 1 1 1 1 1 1 1 1 1 1 1 1 1 1 1 1 1 1 1 1 1 1 1 1 1 1 1 1 0 1 1 \n",
            "\n",
            "- Generation 101: Max Fitness = 48.0, Avg Fitness = 43.81333333333333\n",
            "Best Individual =  1 1 1 1 1 1 1 1 0 1 1 1 1 1 1 1 1 1 1 1 1 1 1 1 1 1 1 1 1 1 1 1 1 1 1 1 1 1 1 1 1 1 1 1 1 1 1 0 1 1 \n",
            "\n",
            "- Generation 102: Max Fitness = 48.0, Avg Fitness = 43.60666666666667\n",
            "Best Individual =  1 1 1 1 1 1 1 1 1 1 1 1 1 1 1 1 1 1 1 1 1 1 1 1 1 1 1 1 1 1 1 1 1 1 1 1 1 1 1 1 1 1 0 1 1 1 1 0 1 1 \n",
            "\n",
            "- Generation 103: Max Fitness = 47.0, Avg Fitness = 43.64\n",
            "Best Individual =  1 1 1 1 1 1 1 1 1 1 0 1 1 1 1 1 1 1 1 1 1 1 1 1 1 1 1 1 1 1 1 1 1 1 1 1 1 1 1 1 1 1 0 1 1 1 1 0 1 1 \n",
            "\n",
            "- Generation 104: Max Fitness = 47.0, Avg Fitness = 43.36666666666667\n",
            "Best Individual =  1 1 1 1 1 1 1 1 1 1 1 1 1 1 1 1 1 0 1 1 1 1 1 1 1 1 1 0 1 1 1 1 1 1 1 1 1 1 1 1 1 1 1 1 1 1 1 0 1 1 \n",
            "\n",
            "- Generation 105: Max Fitness = 47.0, Avg Fitness = 43.513333333333335\n",
            "Best Individual =  1 1 1 1 1 1 1 1 1 1 0 1 1 1 1 1 1 1 1 1 1 1 1 1 1 1 1 1 1 1 1 0 1 1 1 1 1 1 1 1 1 1 1 1 1 1 1 0 1 1 \n",
            "\n",
            "- Generation 106: Max Fitness = 47.0, Avg Fitness = 43.46666666666667\n",
            "Best Individual =  1 1 1 1 1 1 1 1 1 1 1 1 1 1 1 1 1 1 1 1 1 0 1 1 1 1 1 1 0 1 1 1 1 1 1 1 1 1 1 1 1 1 1 1 1 1 1 0 1 1 \n",
            "\n",
            "- Generation 107: Max Fitness = 47.0, Avg Fitness = 43.38666666666666\n",
            "Best Individual =  1 1 1 1 1 1 1 1 1 1 1 1 1 1 1 1 1 0 1 1 1 1 1 1 1 1 0 1 1 1 1 1 1 1 1 1 1 1 1 1 1 1 1 1 1 1 1 0 1 1 \n",
            "\n",
            "- Generation 108: Max Fitness = 47.0, Avg Fitness = 43.17333333333333\n",
            "Best Individual =  1 1 1 1 1 1 1 1 1 1 1 1 1 0 1 1 1 1 1 1 1 1 1 1 1 1 0 1 1 1 1 1 1 1 1 1 1 1 1 1 1 1 1 1 1 1 1 0 1 1 \n",
            "\n",
            "- Generation 109: Max Fitness = 47.0, Avg Fitness = 43.26\n",
            "Best Individual =  1 1 1 1 1 1 1 1 1 1 1 1 1 1 1 1 1 0 1 1 1 1 1 1 1 1 1 1 0 1 1 1 1 1 1 1 1 1 1 1 1 1 1 1 1 1 1 0 1 1 \n",
            "\n",
            "- Generation 110: Max Fitness = 49.0, Avg Fitness = 43.25333333333333\n",
            "Best Individual =  1 1 1 1 1 1 1 1 1 1 1 1 1 1 1 1 1 1 1 1 1 1 1 1 1 1 1 1 1 1 1 1 1 1 1 1 1 1 1 1 1 1 1 1 1 1 1 0 1 1 \n",
            "\n",
            "- Generation 111: Max Fitness = 49.0, Avg Fitness = 43.35333333333333\n",
            "Best Individual =  1 1 1 1 1 1 1 1 1 1 1 1 1 1 1 1 1 1 1 1 1 1 1 1 1 1 1 1 1 1 1 1 1 1 1 1 1 1 1 1 1 1 1 1 1 1 1 0 1 1 \n",
            "\n",
            "- Generation 112: Max Fitness = 49.0, Avg Fitness = 43.24\n",
            "Best Individual =  1 1 1 1 1 1 1 1 1 1 1 1 1 1 1 1 1 1 1 1 1 1 1 1 1 1 1 1 1 1 1 1 1 1 1 1 1 1 1 1 1 1 1 1 1 1 1 0 1 1 \n",
            "\n",
            "- Generation 113: Max Fitness = 49.0, Avg Fitness = 43.36\n",
            "Best Individual =  1 1 1 1 1 1 1 1 1 1 1 1 1 1 1 1 1 1 1 1 1 1 1 1 1 1 1 1 1 1 1 1 1 1 1 1 1 1 1 1 1 1 1 1 1 1 1 0 1 1 \n",
            "\n",
            "- Generation 114: Max Fitness = 48.0, Avg Fitness = 43.406666666666666\n",
            "Best Individual =  1 1 1 1 1 1 1 1 1 1 1 1 1 1 1 1 1 1 1 1 1 1 1 1 1 1 1 0 1 1 1 1 1 1 1 1 1 1 1 1 1 1 1 1 1 1 1 0 1 1 \n",
            "\n",
            "- Generation 115: Max Fitness = 48.0, Avg Fitness = 43.446666666666665\n",
            "Best Individual =  1 1 1 1 1 1 1 1 1 1 1 1 1 1 1 1 1 1 1 1 1 1 1 1 1 1 1 0 1 1 1 1 1 1 1 1 1 1 1 1 1 1 1 1 1 1 1 0 1 1 \n",
            "\n",
            "- Generation 116: Max Fitness = 48.0, Avg Fitness = 43.50666666666667\n",
            "Best Individual =  1 1 1 1 1 1 1 1 1 1 1 1 1 1 1 1 1 1 1 1 1 0 1 1 1 1 1 1 1 1 1 1 1 1 1 1 1 1 1 1 1 1 1 1 1 1 1 0 1 1 \n",
            "\n",
            "- Generation 117: Max Fitness = 48.0, Avg Fitness = 43.6\n",
            "Best Individual =  1 1 1 1 1 1 1 1 1 1 1 1 1 1 1 1 1 1 1 1 1 0 1 1 1 1 1 1 1 1 1 1 1 1 1 1 1 1 1 1 1 1 1 1 1 1 1 0 1 1 \n",
            "\n",
            "- Generation 118: Max Fitness = 48.0, Avg Fitness = 43.833333333333336\n",
            "Best Individual =  1 1 1 1 1 1 1 1 1 1 1 1 1 1 1 1 1 1 1 1 1 1 1 1 1 1 1 0 1 1 1 1 1 1 1 1 1 1 1 1 1 1 1 1 1 1 1 0 1 1 \n",
            "\n",
            "- Generation 119: Max Fitness = 48.0, Avg Fitness = 43.89333333333333\n",
            "Best Individual =  1 1 1 1 1 1 1 1 1 1 1 1 1 1 1 1 1 1 1 1 1 1 1 1 1 1 1 1 0 1 1 1 1 1 1 1 1 1 1 1 1 1 1 1 1 1 1 0 1 1 \n",
            "\n",
            "- Generation 120: Max Fitness = 48.0, Avg Fitness = 44.14\n",
            "Best Individual =  1 1 1 1 1 1 1 1 1 1 1 1 1 1 1 1 1 1 1 1 1 1 1 1 1 1 1 0 1 1 1 1 1 1 1 1 1 1 1 1 1 1 1 1 1 1 1 0 1 1 \n",
            "\n",
            "- Generation 121: Max Fitness = 49.0, Avg Fitness = 44.36666666666667\n",
            "Best Individual =  1 1 1 1 1 1 1 1 1 1 1 1 1 1 1 1 1 1 1 1 1 1 1 1 1 1 1 1 1 1 1 1 1 1 1 1 1 1 1 1 1 1 1 1 1 1 1 0 1 1 \n",
            "\n",
            "- Generation 122: Max Fitness = 49.0, Avg Fitness = 44.42\n",
            "Best Individual =  1 1 1 1 1 1 1 1 1 1 1 1 1 1 1 1 1 1 1 1 1 1 1 1 1 1 1 1 1 1 1 1 1 1 1 1 1 1 1 1 1 1 1 1 1 1 1 0 1 1 \n",
            "\n",
            "- Generation 123: Max Fitness = 49.0, Avg Fitness = 44.446666666666665\n",
            "Best Individual =  1 1 1 1 1 1 1 1 1 1 1 1 1 1 1 1 1 1 1 1 1 1 1 1 1 1 1 1 1 1 1 1 1 1 1 1 1 1 1 1 1 1 1 1 1 1 1 0 1 1 \n",
            "\n",
            "- Generation 124: Max Fitness = 49.0, Avg Fitness = 44.81333333333333\n",
            "Best Individual =  1 1 1 1 1 1 1 1 1 1 1 1 1 1 1 1 1 1 1 1 1 1 1 1 1 1 1 1 1 1 1 1 1 1 1 1 1 1 1 1 1 1 1 1 1 1 1 0 1 1 \n",
            "\n",
            "- Generation 125: Max Fitness = 49.0, Avg Fitness = 44.833333333333336\n",
            "Best Individual =  1 1 1 1 1 1 1 1 1 1 1 1 1 1 1 1 1 1 1 1 1 1 1 1 1 1 1 1 1 1 1 1 1 1 1 1 1 1 1 1 1 1 1 1 1 1 1 0 1 1 \n",
            "\n",
            "- Generation 126: Max Fitness = 48.0, Avg Fitness = 44.973333333333336\n",
            "Best Individual =  1 1 1 1 1 1 1 1 1 1 1 1 1 0 1 1 1 1 1 1 1 1 1 1 1 1 1 1 1 1 1 1 1 1 1 1 1 1 1 1 1 1 1 1 1 1 1 0 1 1 \n",
            "\n",
            "- Generation 127: Max Fitness = 48.0, Avg Fitness = 45.11333333333334\n",
            "Best Individual =  1 1 1 1 1 1 1 1 1 1 1 1 1 1 1 1 1 0 1 1 1 1 1 1 1 1 1 1 1 1 1 1 1 1 1 1 1 1 1 1 1 1 1 1 1 1 1 0 1 1 \n",
            "\n",
            "- Generation 128: Max Fitness = 48.0, Avg Fitness = 45.36666666666667\n",
            "Best Individual =  1 1 1 1 1 1 1 1 1 1 1 1 1 1 1 1 1 1 1 1 1 0 1 1 1 1 1 1 1 1 1 1 1 1 1 1 1 1 1 1 1 1 1 1 1 1 1 0 1 1 \n",
            "\n",
            "- Generation 129: Max Fitness = 49.0, Avg Fitness = 45.42666666666667\n",
            "Best Individual =  1 1 1 1 1 1 1 1 1 1 1 1 1 1 1 1 1 0 1 1 1 1 1 1 1 1 1 1 1 1 1 1 1 1 1 1 1 1 1 1 1 1 1 1 1 1 1 1 1 1 \n",
            "\n",
            "- Generation 130: Max Fitness = 49.0, Avg Fitness = 45.78\n",
            "Best Individual =  1 1 1 1 1 1 1 1 1 1 1 1 1 1 1 1 1 0 1 1 1 1 1 1 1 1 1 1 1 1 1 1 1 1 1 1 1 1 1 1 1 1 1 1 1 1 1 1 1 1 \n",
            "\n",
            "- Generation 131: Max Fitness = 49.0, Avg Fitness = 45.92\n",
            "Best Individual =  1 1 1 1 1 1 1 1 1 1 1 1 1 1 1 1 1 1 1 1 1 0 1 1 1 1 1 1 1 1 1 1 1 1 1 1 1 1 1 1 1 1 1 1 1 1 1 1 1 1 \n",
            "\n",
            "- Generation 132: Max Fitness = 49.0, Avg Fitness = 46.026666666666664\n",
            "Best Individual =  1 1 1 1 1 1 1 1 1 1 1 1 1 1 1 1 1 1 1 1 1 1 1 1 1 1 1 1 1 1 1 1 1 1 1 1 1 1 1 1 1 1 1 1 1 1 1 0 1 1 \n",
            "\n",
            "- Generation 133: Max Fitness = 49.0, Avg Fitness = 46.00666666666667\n",
            "Best Individual =  1 1 1 1 1 1 1 1 1 1 1 1 1 1 1 1 1 1 1 1 1 1 1 1 1 1 1 1 1 1 1 1 1 1 1 1 1 1 1 1 1 1 1 1 1 1 1 0 1 1 \n",
            "\n",
            "- Generation 134: Max Fitness = 49.0, Avg Fitness = 46.17333333333333\n",
            "Best Individual =  1 1 1 1 1 1 1 1 1 1 1 1 1 1 1 1 1 1 1 1 1 1 1 1 1 1 1 1 1 1 1 1 1 1 1 1 1 1 1 1 1 1 1 1 1 1 1 0 1 1 \n",
            "\n",
            "- Generation 135: Max Fitness = 50.0, Avg Fitness = 46.24\n",
            "Best Individual =  1 1 1 1 1 1 1 1 1 1 1 1 1 1 1 1 1 1 1 1 1 1 1 1 1 1 1 1 1 1 1 1 1 1 1 1 1 1 1 1 1 1 1 1 1 1 1 1 1 1 \n",
            "\n"
          ]
        }
      ],
      "source": [
        "# create initial population (generation 0):\n",
        "population = toolbox.populationCreator(n=POPULATION_SIZE)\n",
        "generationCounter = 0\n",
        "\n",
        "# calculate fitness tuple for each individual in the population:\n",
        "fitnessValues = list(map(toolbox.evaluate, population))\n",
        "\n",
        "for individual, fitnessValue in zip(population, fitnessValues):\n",
        "    individual.fitness.values = fitnessValue\n",
        "\n",
        "# extract fitness values from all individuals in population:\n",
        "fitnessValues = [individual.fitness.values[0] for individual in population]\n",
        "\n",
        "# initialize statistics accumulators:\n",
        "maxFitnessValues = []\n",
        "meanFitnessValues = []\n",
        "\n",
        "# main evolutionary loop:\n",
        "# stop if max fitness value reached the known max value\n",
        "# OR if number of generations exceeded the preset value:\n",
        "while max(fitnessValues) < ONE_MAX_LENGTH and generationCounter < MAX_GENERATIONS:\n",
        "    # update counter:\n",
        "    generationCounter = generationCounter + 1\n",
        "\n",
        "    # apply the selection operator, to select the next generation's individuals:\n",
        "    offspring = toolbox.select(population, len(population))\n",
        "    #clone the selected individuals:\n",
        "    offspring = list(map(toolbox.clone, offspring))\n",
        "\n",
        "    # apply the crossover operator to pairs of offspring:\n",
        "    for child1, child2 in zip(offspring[::2], offspring[1::2]):\n",
        "        if random.random() < P_CROSSOVER:\n",
        "            toolbox.mate(child1, child2)\n",
        "            del child1.fitness.values # Del fitness value\n",
        "            del child2.fitness.values # Del fitness value\n",
        "\n",
        "    for mutant in offspring:\n",
        "        if random.random() < P_MUTATION:\n",
        "            toolbox.mutate(mutant)\n",
        "            del mutant.fitness.values\n",
        "\n",
        "    # calculate fitness for the individuals with no previous calculated fitness value:\n",
        "    freshIndividuals = [ind for ind in offspring if not ind.fitness.valid]\n",
        "    freshFitnessValues = list(map(toolbox.evaluate, freshIndividuals))\n",
        "    for individual, fitnessValue in zip(freshIndividuals, freshFitnessValues):\n",
        "        individual.fitness.values = fitnessValue\n",
        "\n",
        "    # replace the current population with the offspring:\n",
        "    population[:] = offspring\n",
        "\n",
        "    # collect fitnessValues into a list, update statistics and print:\n",
        "    fitnessValues = [ind.fitness.values[0] for ind in population]\n",
        "\n",
        "    maxFitness = max(fitnessValues)\n",
        "    meanFitness = sum(fitnessValues) / len(population)\n",
        "    maxFitnessValues.append(maxFitness)\n",
        "    meanFitnessValues.append(meanFitness)\n",
        "    print(\"- Generation {}: Max Fitness = {}, Avg Fitness = {}\".format(generationCounter, maxFitness, meanFitness))\n",
        "\n",
        "    # find and print best individual:\n",
        "    best_index = fitnessValues.index(max(fitnessValues))\n",
        "    print(\"Best Individual = \", *population[best_index], \"\\n\")\n",
        "\n"
      ]
    },
    {
      "cell_type": "markdown",
      "metadata": {
        "id": "FquwG-LYtg9j"
      },
      "source": [
        "Now that we're done, let's print out some statistics. Generally we record (at least) the max and average over time."
      ]
    },
    {
      "cell_type": "code",
      "execution_count": 200,
      "metadata": {
        "colab": {
          "base_uri": "https://localhost:8080/",
          "height": 507
        },
        "id": "qN-rdN4rtg9k",
        "outputId": "780b6bb5-ff4d-4b9a-d593-ba1e71ef24e1"
      },
      "outputs": [
        {
          "output_type": "display_data",
          "data": {
            "text/plain": [
              "<Figure size 640x480 with 1 Axes>"
            ],
            "image/png": "[encoded data removed]"
          },
          "metadata": {}
        },
        {
          "output_type": "stream",
          "name": "stdout",
          "text": [
            "Population Size(150) and Max Generation (135)\n",
            "Individuals processed(20250): the population size (150) multiplied by the number of generations (135) required.\n"
          ]
        }
      ],
      "source": [
        "# Genetic Algorithm is done - plot statistics:\n",
        "#sns.set_style(\"whitegrid\")\n",
        "plt.plot(maxFitnessValues, color='red')\n",
        "plt.plot(meanFitnessValues, color='green')\n",
        "plt.xlabel('Generation')\n",
        "plt.ylabel('Max / Average Fitness')\n",
        "plt.title('Max and Average Fitness over Generations')\n",
        "plt.show()\n",
        "\n",
        "print(f\"Population Size({POPULATION_SIZE}) and Max Generation ({MAX_GENERATIONS})\")\n",
        "print(f\"Individuals processed({POPULATION_SIZE*MAX_GENERATIONS}): the population size ({POPULATION_SIZE}) multiplied by the number of generations ({MAX_GENERATIONS}) required.\")"
      ]
    },
    {
      "cell_type": "code",
      "execution_count": 200,
      "metadata": {
        "id": "AU_CTGZ-tg9m"
      },
      "outputs": [],
      "source": []
    }
  ],
  "metadata": {
    "kernelspec": {
      "display_name": "Python 3",
      "language": "python",
      "name": "python3"
    },
    "language_info": {
      "codemirror_mode": {
        "name": "ipython",
        "version": 3
      },
      "file_extension": ".py",
      "mimetype": "text/x-python",
      "name": "python",
      "nbconvert_exporter": "python",
      "pygments_lexer": "ipython3",
      "version": "3.8.3"
    },
    "colab": {
      "provenance": []
    }
  },
  "nbformat": 4,
  "nbformat_minor": 0
}