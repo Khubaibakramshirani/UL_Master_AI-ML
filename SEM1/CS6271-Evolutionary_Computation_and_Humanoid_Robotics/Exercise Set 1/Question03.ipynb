{
  "nbformat": 4,
  "nbformat_minor": 0,
  "metadata": {
    "colab": {
      "provenance": []
    },
    "kernelspec": {
      "name": "python3",
      "display_name": "Python 3"
    },
    "language_info": {
      "name": "python"
    }
  },
  "cells": [
    {
      "cell_type": "markdown",
      "source": [
        "* Muhammad Khubaib Akram\n",
        "* 23098929\n",
        "\n",
        "This is much easier as the fitness is maximized at exactly 50% of '1's. There is a clear and easily identifiable optimal solution (50% '1's) with a steep fitness peak"
      ],
      "metadata": {
        "id": "vUIPtUVB4z5B"
      }
    },
    {
      "cell_type": "code",
      "execution_count": 247,
      "metadata": {
        "colab": {
          "base_uri": "https://localhost:8080/"
        },
        "id": "2S1SC5MtAHdt",
        "outputId": "7a8ca550-98ff-45b4-c5c6-91238d57e68d"
      },
      "outputs": [
        {
          "output_type": "stream",
          "name": "stdout",
          "text": [
            "Requirement already satisfied: deap in /usr/local/lib/python3.10/dist-packages (1.4.1)\n",
            "Requirement already satisfied: numpy in /usr/local/lib/python3.10/dist-packages (from deap) (1.23.5)\n"
          ]
        }
      ],
      "source": [
        "!pip install deap"
      ]
    },
    {
      "cell_type": "code",
      "source": [
        "from deap import base\n",
        "from deap import creator\n",
        "from deap import tools\n",
        "\n",
        "import random\n",
        "\n",
        "import matplotlib.pyplot as plt"
      ],
      "metadata": {
        "id": "FwEMJ4KYAIqi"
      },
      "execution_count": 248,
      "outputs": []
    },
    {
      "cell_type": "code",
      "source": [
        "# Genetic Algorithm constants:\n",
        "\n",
        "POPULATION_SIZE = 10\n",
        "P_CROSSOVER = 0.7  # probability for crossover\n",
        "P_MUTATION = 0.01   # probability for mutating an individual\n",
        "MAX_GENERATIONS = 100\n",
        "\n",
        "#Population 150 - Generation 135: Max Fitness = 50.0, Avg Fitness = 46.24 || Pop*No_Gen = 20250\n",
        "\n",
        "ONE_MAX_LENGTH = 100  # length of bit string to be optimized"
      ],
      "metadata": {
        "id": "fxVcwRhFAK3G"
      },
      "execution_count": 249,
      "outputs": []
    },
    {
      "cell_type": "code",
      "source": [
        "# fitness calculation:\n",
        "  # compute the number of '1's in the individual\n",
        "def customFitness(individual):\n",
        "  sum_individual = sum(individual)\n",
        "  individual_length = len(individual)\n",
        "\n",
        "  if sum_individual <= individual_length/2:\n",
        "    fitness = (sum_individual,)\n",
        "  else:\n",
        "    fitness = (individual_length-sum_individual,)\n",
        "\n",
        "  return fitness"
      ],
      "metadata": {
        "id": "t5ZDGMyJAPbe"
      },
      "execution_count": 250,
      "outputs": []
    },
    {
      "cell_type": "code",
      "source": [
        "#Set the random seed. This is important so that we can reproduce runs later on.\n",
        "RANDOM_SEED = 42\n",
        "random.seed(RANDOM_SEED)\n",
        "\n",
        "\n",
        "toolbox = base.Toolbox()\n",
        "\n",
        "# create an operator that randomly returns 0 or 1:\n",
        "toolbox.register(\"zeroOrOne\", random.randint, 0, 1)\n",
        "\n",
        "# define a single objective, maximizing fitness strategy:\n",
        "creator.create(\"FitnessMax\", base.Fitness, weights=(1.0,))\n",
        "\n",
        "# create the Individual class based on list:\n",
        "creator.create(\"Individual\", list, fitness=creator.FitnessMax)\n",
        "#creator.create(\"Individual\", array.array, typecode='b', fitness=creator.FitnessMax)\n",
        "\n",
        "# create the individual operator to fill up an Individual instance:\n",
        "toolbox.register(\"individualCreator\", tools.initRepeat, creator.Individual, toolbox.zeroOrOne, ONE_MAX_LENGTH)\n",
        "\n",
        "# create the population operator to generate a list of individuals:\n",
        "toolbox.register(\"populationCreator\", tools.initRepeat, list, toolbox.individualCreator)\n",
        "\n",
        "\n",
        "# fitness calculation:\n",
        "# compute the number of '1's in the individual\n",
        "def oneMaxFitness(individual):\n",
        "    return sum(individual),  # return a tuple\n",
        "\n",
        "\n",
        "toolbox.register(\"evaluate\", customFitness)\n",
        "\n",
        "# genetic operators:\n",
        "\n",
        "# Tournament selection with tournament size of 3:\n",
        "toolbox.register(\"select\", tools.selTournament, tournsize=3)\n",
        "\n",
        "\n",
        "# Single-point crossover:\n",
        "toolbox.register(\"mate\", tools.cxOnePoint)\n",
        "\n",
        "# Flip-bit mutation:\n",
        "# indpb: Independent probability for each attribute to be flipped\n",
        "toolbox.register(\"mutate\", tools.mutFlipBit, indpb=1.0/ONE_MAX_LENGTH)\n",
        "\n"
      ],
      "metadata": {
        "colab": {
          "base_uri": "https://localhost:8080/"
        },
        "id": "SafiET9xS_iM",
        "outputId": "7ffda5e7-f95f-4f47-d619-6cac1de5f9c5"
      },
      "execution_count": 251,
      "outputs": [
        {
          "output_type": "stream",
          "name": "stderr",
          "text": [
            "/usr/local/lib/python3.10/dist-packages/deap/creator.py:185: RuntimeWarning: A class named 'FitnessMax' has already been created and it will be overwritten. Consider deleting previous creation of that class or rename it.\n",
            "  warnings.warn(\"A class named '{0}' has already been created and it \"\n",
            "/usr/local/lib/python3.10/dist-packages/deap/creator.py:185: RuntimeWarning: A class named 'Individual' has already been created and it will be overwritten. Consider deleting previous creation of that class or rename it.\n",
            "  warnings.warn(\"A class named '{0}' has already been created and it \"\n"
          ]
        }
      ]
    },
    {
      "cell_type": "markdown",
      "source": [
        "###Here is the main GA loop. We will iterate through it up to the MAX_GENERATIONS parameter and then print out our best individual."
      ],
      "metadata": {
        "id": "PN6NELgpTFyk"
      }
    },
    {
      "cell_type": "code",
      "source": [
        "# create initial population (generation 0):\n",
        "population = toolbox.populationCreator(n=POPULATION_SIZE)\n",
        "generationCounter = 0\n",
        "\n",
        "# calculate fitness tuple for each individual in the population:\n",
        "fitnessValues = list(map(toolbox.evaluate, population))\n",
        "for individual, fitnessValue in zip(population, fitnessValues):\n",
        "  individual.fitness.values = fitnessValue\n",
        "\n",
        "# extract fitness values from all individuals in population:\n",
        "fitnessValues = [individual.fitness.values[0] for individual in population]\n",
        "\n",
        "# initialize statistics accumulators:\n",
        "maxFitnessValues = []\n",
        "meanFitnessValues = []\n",
        "\n",
        "# main evolutionary loop:\n",
        "# stop if max fitness value reached the known max value\n",
        "# OR if number of generations exceeded the preset value:\n",
        "while max(fitnessValues) < ONE_MAX_LENGTH/2 and generationCounter < MAX_GENERATIONS:\n",
        "  # update counter:\n",
        "  generationCounter = generationCounter + 1\n",
        "\n",
        "  # apply the selection operator, to select the next generation's individuals:\n",
        "  offspring = toolbox.select(population, len(population))\n",
        "  # clone the selected individuals:\n",
        "  offspring = list(map(toolbox.clone, offspring))\n",
        "\n",
        "  # apply the crossover operator to pairs of offspring:\n",
        "  for child1, child2 in zip(offspring[::2], offspring[1::2]):\n",
        "    if random.random() < P_CROSSOVER:\n",
        "      toolbox.mate(child1, child2)\n",
        "      del child1.fitness.values\n",
        "      del child2.fitness.values\n",
        "\n",
        "  for mutant in offspring:\n",
        "    if random.random() < P_MUTATION:\n",
        "      toolbox.mutate(mutant)\n",
        "      del mutant.fitness.values\n",
        "\n",
        "  # calculate fitness for the individuals with no previous calculated fitness value:\n",
        "  freshIndividuals = [ind for ind in offspring if not ind.fitness.valid]\n",
        "  freshFitnessValues = list(map(toolbox.evaluate, freshIndividuals))\n",
        "  for individual, fitnessValue in zip(freshIndividuals, freshFitnessValues):\n",
        "      individual.fitness.values = fitnessValue\n",
        "\n",
        "  # replace the current population with the offspring:\n",
        "  population[:] = offspring\n",
        "\n",
        "  # collect fitnessValues into a list, update statistics and print:\n",
        "  fitnessValues = [ind.fitness.values[0] for ind in population]\n",
        "\n",
        "  maxFitness = max(fitnessValues)\n",
        "  meanFitness = sum(fitnessValues) / len(population)\n",
        "  maxFitnessValues.append(maxFitness)\n",
        "  meanFitnessValues.append(meanFitness)\n",
        "  print(\"- Generation {}: Max Fitness = {}, Avg Fitness = {}\".format(generationCounter, maxFitness, meanFitness))\n",
        "\n",
        "  # find and print best individual:\n",
        "  best_index = fitnessValues.index(max(fitnessValues))\n",
        "  print(\"Best Individual = \", *population[best_index], \"\\n\")\n"
      ],
      "metadata": {
        "colab": {
          "base_uri": "https://localhost:8080/"
        },
        "id": "vTZ3xSUtTDii",
        "outputId": "3c922964-c87d-4650-b9d2-f3745cc617e0"
      },
      "execution_count": 254,
      "outputs": [
        {
          "output_type": "stream",
          "name": "stdout",
          "text": [
            "- Generation 1: Max Fitness = 49.0, Avg Fitness = 47.8\n",
            "Best Individual =  0 0 1 1 1 0 1 1 1 0 0 0 1 0 0 1 0 1 0 0 0 0 1 0 1 1 0 1 1 1 0 0 1 1 0 1 1 1 1 1 1 0 0 0 1 0 1 1 0 0 1 0 0 1 1 0 1 0 0 1 1 0 1 0 1 1 0 1 0 1 0 0 1 0 1 0 0 0 1 1 0 1 1 0 0 0 1 0 0 1 0 1 0 1 0 0 0 1 1 0 \n",
            "\n",
            "- Generation 2: Max Fitness = 50.0, Avg Fitness = 47.6\n",
            "Best Individual =  0 0 1 1 1 0 1 1 1 0 0 0 0 0 1 0 0 1 1 0 1 0 0 1 0 1 1 1 1 0 1 1 0 0 1 0 1 1 0 0 1 1 0 0 0 0 1 1 1 0 0 0 1 1 0 0 1 1 0 1 1 1 1 0 1 1 0 0 0 1 1 0 1 1 0 1 1 0 0 0 1 0 1 1 1 1 0 0 0 1 1 0 0 0 0 0 0 1 1 0 \n",
            "\n"
          ]
        }
      ]
    },
    {
      "cell_type": "code",
      "source": [
        "# Genetic Algorithm is done - plot statistics:\n",
        "#sns.set_style(\"whitegrid\")\n",
        "plt.plot(maxFitnessValues, color='red')\n",
        "plt.plot(meanFitnessValues, color='green')\n",
        "plt.xlabel('Generation')\n",
        "plt.ylabel('Max / Average Fitness')\n",
        "plt.title('Max and Average Fitness over Generations')\n",
        "plt.show()\n",
        "\n",
        "\n"
      ],
      "metadata": {
        "colab": {
          "base_uri": "https://localhost:8080/",
          "height": 472
        },
        "id": "kNCf8f6gTK9F",
        "outputId": "9e5acab4-5c22-48cb-d86f-5d4acd64b5bf"
      },
      "execution_count": 255,
      "outputs": [
        {
          "output_type": "display_data",
          "data": {
            "text/plain": [
              "<Figure size 640x480 with 1 Axes>"
            ],
            "image/png": "[encoded data removed]"
          },
          "metadata": {}
        }
      ]
    },
    {
      "cell_type": "markdown",
      "source": [],
      "metadata": {
        "id": "JH7sIBNOJelW"
      }
    }
  ]
}