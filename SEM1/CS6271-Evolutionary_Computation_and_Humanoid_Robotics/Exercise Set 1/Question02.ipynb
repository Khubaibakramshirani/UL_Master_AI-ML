version https://git-lfs.github.com/spec/v1
oid sha256:31c15585c7e3fb9c1b06829fa1406acf64eb40f6510404c3de1e6af938bbe058
size 67640
