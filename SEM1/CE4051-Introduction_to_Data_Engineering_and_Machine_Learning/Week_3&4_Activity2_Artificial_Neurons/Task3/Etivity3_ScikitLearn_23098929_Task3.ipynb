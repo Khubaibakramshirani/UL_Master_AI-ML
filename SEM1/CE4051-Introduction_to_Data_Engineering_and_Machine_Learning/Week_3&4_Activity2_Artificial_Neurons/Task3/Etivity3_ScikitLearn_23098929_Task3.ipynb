{
  "cells": [
    {
      "cell_type": "markdown",
      "metadata": {
        "id": "2LpObOpS3OYz"
      },
      "source": [
        "### Student Details\n",
        "\n",
        "**Student Name:** Muhammad Khubaib Akram\n",
        "\n",
        "**Student ID:** 23098929\n",
        "\n",
        "\n",
        "# Task 3: Exploration\n",
        "---\n"
      ]
    },
    {
      "cell_type": "markdown",
      "source": [
        "Write 3 or 4 paragraphs on the topic of \"Commonality and differences between artificial neurons and biological neurons\".\n",
        "\n",
        "* I expect you to access resources, such as books, websites, blogs, videos, etc., in preparing this work. However, please note that this must be in your own words (note the plagiarism rules below). Marks will be awarded for demonstrating your own understanding of the topic and for insightful commentary.\n",
        "\n",
        "* You are expected to consider the following:\n",
        "\n",
        "* Artificial neurons as a model of biological neurons\n",
        "* Are they a good model?\n",
        "* Be sure to cite any external works that you use in the submission.\n",
        "\n",
        "Add the paragraphs as markdown in the ipynb file.\n",
        "\n",
        "Guideline size: 500 words (this is only a rough guide)\n",
        "\n",
        "---\n",
        "---\n"
      ],
      "metadata": {
        "id": "l1p66h7C7WtR"
      }
    },
    {
      "cell_type": "markdown",
      "source": [
        "Artificial neurons, the building blocks of artificial neural networks, were initially conceptualized as a simplified model of biological neurons found in the human brain. They are the fundamental building blocks of artificial neural networks (ANNs), which are systems of interconnected neurons inspired by the working of a brain. Biological neurons, on the other hand, are cells that process information in the human brain and nervous system. They are responsible for transmitting electrical and chemical signals throughout the body."
      ],
      "metadata": {
        "id": "71pa8f5Y6GNp"
      }
    },
    {
      "cell_type": "markdown",
      "source": [
        "While they share certain **commonalities**,  \n",
        "\n",
        "\n",
        "*   such as the idea of receiving inputs and producing outputs, they also exhibit notable differences that distinguish them from their biological counterparts.\n",
        "*   One commonality between artificial and biological neurons is the concept of input and output. In biological neurons, signals in the form of neurotransmitters are received through dendrites, processed in the cell body, and transmitted as output through the axon.  \n",
        "* Similarly, artificial neurons receive input from multiple sources, perform mathematical operations on these inputs, and generate an output based on an activation function. This parallelism allows artificial neurons to model the fundamental information processing functions of biological neurons, making them a valuable model in terms of input-output relationships.\n",
        "\n",
        "\n",
        "\n",
        "\n",
        "\n",
        "\n",
        "\n"
      ],
      "metadata": {
        "id": "6AtGuw8k6Qev"
      }
    },
    {
      "cell_type": "markdown",
      "source": [
        "The **main differences** between artificial and biological neurons are numerous.  \n",
        "\n",
        "* Size-wise, the human brain boasts billions of neurons and trillions of synapses, while artificial neural networks typically have fewer neurons and connections.  \n",
        "\n",
        "* Topologically, artificial neural networks operate in a feedforward manner, with computations performed sequentially, unlike the parallel, asynchronous firing of biological neurons.  \n",
        "\n",
        "* Speed-wise, artificial neurons can perform calculations rapidly and consistently, without refractory periods or fatigue, in contrast to the variable signal transmission speeds and refractory periods in biological neurons.\n",
        "\n",
        "* Additionally, artificial neurons do not possess the fault tolerance or self-regeneration capabilities of biological neurons.\n",
        "\n",
        "* One crucial distinction is in how they handle signals. Biological neurons exhibit binary action potentials—either firing or not firing—while artificial neurons use continuous values and nonlinear activation functions to process signals. The timing of signals in artificial neurons is synchronous, with all neurons in a layer processing inputs simultaneously.\n",
        "\n",
        "* Learning is another area where artificial and biological neurons diverge. While the brain's learning mechanisms remain a mystery, artificial neural networks rely on predefined models with adjustable weights that are optimized during training. Once trained, artificial neural networks do not continuously learn or adapt like their biological counterparts but instead recall the same learned knowledge consistently.\n",
        "\n",
        "* Finally, power consumption sets them apart significantly. The human brain operates efficiently on a mere 20 watts, while artificial neural networks, running on modern hardware, consume more energy. Additionally, artificial neurons generate heat during computation, unlike biological neurons that maintain a constant temperature."
      ],
      "metadata": {
        "id": "zcYcDd1F6erg"
      }
    },
    {
      "cell_type": "markdown",
      "source": [
        "In **summary**, artificial neurons, though inspired by biological neurons, differ in size, topology, speed, fault tolerance, signal handling, learning mechanisms, and power consumption. While they standout in certain domains, they are far from replicating the versatility and adaptability of the human brain, leaving the challenge of understanding, and replicating general intelligence a complex and continuing pursuit. But whether they are a good model is still a matter of debate. Further research is needed to explore the commonalities and differences between these two types of neurons and to develop more realistic models of biological neurons for use in artificial neural networks.\n",
        "\n"
      ],
      "metadata": {
        "id": "KqKH2cUM6qy5"
      }
    },
    {
      "cell_type": "markdown",
      "source": [
        "References\n",
        "\n",
        "\n",
        "1. https://scienceoxygen.com/what-is-the-difference-between-artificial-and-biological-neuron/  \n",
        "2. https://medium.com/@eraiitk/brain-and-artificial-neural-networks-differences-and-similarities-1d337fe50168\n",
        "3.   https://towardsdatascience.com/the-differences-between-artificial-and-biological-neural-networks-a8b46db828b7\n",
        "4. https://www.javatpoint.com/difference-between-artificial-neural-network-and-biological-neural-network\n",
        "5. https://techdifferences.com/difference-between-artificial-neural-network-and-biological-neural-network.html\n",
        "\n"
      ],
      "metadata": {
        "id": "xhWKxaNe7Usu"
      }
    }
  ],
  "metadata": {
    "kernelspec": {
      "display_name": "Python 3 (ipykernel)",
      "language": "python",
      "name": "python3"
    },
    "language_info": {
      "codemirror_mode": {
        "name": "ipython",
        "version": 3
      },
      "file_extension": ".py",
      "mimetype": "text/x-python",
      "name": "python",
      "nbconvert_exporter": "python",
      "pygments_lexer": "ipython3",
      "version": "3.9.13"
    },
    "colab": {
      "provenance": []
    }
  },
  "nbformat": 4,
  "nbformat_minor": 0
}