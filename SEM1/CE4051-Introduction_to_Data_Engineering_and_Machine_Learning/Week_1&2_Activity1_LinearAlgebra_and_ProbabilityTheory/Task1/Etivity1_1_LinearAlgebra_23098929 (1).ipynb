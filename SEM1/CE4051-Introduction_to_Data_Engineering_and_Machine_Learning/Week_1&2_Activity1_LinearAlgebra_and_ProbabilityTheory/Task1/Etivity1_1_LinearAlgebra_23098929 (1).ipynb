{
  "nbformat": 4,
  "nbformat_minor": 0,
  "metadata": {
    "colab": {
      "provenance": []
    },
    "kernelspec": {
      "name": "python3",
      "display_name": "Python 3"
    },
    "language_info": {
      "name": "python"
    }
  },
  "cells": [
    {
      "cell_type": "markdown",
      "source": [
        "#a. Vector Operations\n",
        "###Provide Python functions, without external libraries*, to calculate:\n",
        "\n",
        "####1. Scalar multiplication of a vector\n",
        "####2. Addition and subtraction of two vectors. Check vectors of the same size are passed.\n",
        "####3. The dot product of two vectors of length n. Check vectors of the same size are passed.\n",
        "####4. The cross product, which is defined for 3-vectors. Check vectors of the correct size are passed."
      ],
      "metadata": {
        "id": "ohLQNwM4FNv2"
      }
    },
    {
      "cell_type": "markdown",
      "source": [
        "#### 1. **Scalar multiplication** of a vector"
      ],
      "metadata": {
        "id": "MvLvbMxBFlPK"
      }
    },
    {
      "cell_type": "code",
      "source": [
        "# Created Custom Exception Class to Raise of if the Vectors Size MisMatchs\n",
        "\n",
        "class Vector_Size_MisMatch(Exception):\n",
        "  \"\"\"Custom Class for Vector Size MisMatch\"\"\"\n",
        "\n",
        "\n",
        "def check_sizeOfVectors(vec1,vec2):\n",
        "  \"\"\"This Function checks if both vec1 and vec2 is of same or not, raises excepton if not same otherwise returns True\"\"\"\n",
        "\n",
        "  try:\n",
        "    if len(vec1) != len(vec2):\n",
        "      raise Vector_Size_MisMatch()\n",
        "    else:\n",
        "      return True\n",
        "\n",
        "  except Vector_Size_MisMatch:\n",
        "    print(\"*****MisMatch Vector Error: Vectors size is not same******\")\n",
        "\n",
        "\n",
        "def scalar_multiplication(scalar, vector):\n",
        "  scalarMul = []\n",
        "  for i in range(len(vector)): # Muliplying every element of a vector with scalar value\n",
        "    scalarMul.append(vector[i]* scalar)\n",
        "\n",
        "  #Vector result after multiplication\n",
        "  print(f\"Scalar Multiplication of {scalar} and {vector} is {scalarMul}\")\n",
        "\n",
        "\n",
        "def addition_Of_Two_Vectors(vec1,vec2):\n",
        "  \"\"\"This function adds two vectors\"\"\"\n",
        "\n",
        "  addition_vector= []\n",
        "  if check_sizeOfVectors(vec1,vec2):\n",
        "    for index in range(len(vec1)):\n",
        "      # Addition of Two vectors\n",
        "      addition_vector.append(vec1[index]+vec2[index])\n",
        "    print(f\"Addition of {vec1} and {vec2} is {addition_vector}\")\n",
        "\n",
        "\n",
        "def subtraction_Of_Two_Vectors(vec1,vec2):\n",
        "  \"\"\"This function subtracts two vectors\"\"\"\n",
        "\n",
        "  sub_vector= []\n",
        "  if check_sizeOfVectors(vec1,vec2):\n",
        "    for index in range(len(vec1)):\n",
        "      # subtraction of Two vectors\n",
        "      sub_vector.append(vec1[index]-vec2[index])\n",
        "    print(f\"Subtraction of {vec1} and {vec2} is {sub_vector}\")\n",
        "\n",
        "\n",
        "def dot_product(vec1,vec2):\n",
        "  \"\"\"This function takes Dot product of two vectors\"\"\"\n",
        "\n",
        "  if check_sizeOfVectors(vec1,vec2):\n",
        "    dot = 0\n",
        "    for index in range(len(vec1)):\n",
        "      # Dot Product of Two vectors\n",
        "      dot += vec1[index]*vec2[index]\n",
        "    print(f\"Dot product of {vec1} and {vec2} is {dot}\")\n",
        "\n",
        "\n",
        "\n",
        "def cross_product(vector3, vector4):\n",
        "  \"\"\"This function prints the cross product of two vectors\"\"\"\n",
        "  if len(vector3) == 3 and len(vector4) ==3:\n",
        "    cross_pro= []\n",
        "      # Scalar Product of two Vectors | axb = a2b3 - a3b2\n",
        "      #                               |       a3b1 - a1b3\n",
        "      #                               |       a1b2 - a2b1\n",
        "    cross_pro.append( vector3[1] * vector4[2] - vector3[2] * vector4[1])\n",
        "    cross_pro.append( vector3[2] * vector4[0] - vector3[0] * vector4[2])\n",
        "    cross_pro.append( vector3[0] * vector4[1] - vector3[1] * vector4[0])\n",
        "\n",
        "    print(f\"Cross product of {vector3} and  {vector4} is  {cross_pro}\")\n",
        "  else:\n",
        "    print(\"***Vectors Size for Cross Product is not correct ***\")\n",
        "\n",
        "vec1 = [1,2,3]\n",
        "vec2 = [1,5,4]\n",
        "vec3 = [1,2,3]\n",
        "vec4 = [4,5]\n",
        "\n",
        "scalar_multiplication(3, vec4)\n",
        "print()\n",
        "addition_Of_Two_Vectors(vec1,vec2)\n",
        "print()\n",
        "addition_Of_Two_Vectors(vec3,vec4)\n",
        "print()\n",
        "subtraction_Of_Two_Vectors(vec1,vec2)\n",
        "print()\n",
        "subtraction_Of_Two_Vectors(vec1,vec4)\n",
        "print()\n",
        "dot_product(vec1,vec2)\n",
        "print()\n",
        "dot_product(vec1,vec4)\n",
        "print()\n",
        "cross_product(vec1,vec2)\n",
        "print()\n",
        "cross_product(vec1,vec4)\n",
        "print()"
      ],
      "metadata": {
        "id": "cbn-JtBpfcp8",
        "colab": {
          "base_uri": "https://localhost:8080/"
        },
        "outputId": "21c75283-8bd3-4152-9010-fb2ecf95f009"
      },
      "execution_count": 37,
      "outputs": [
        {
          "output_type": "stream",
          "name": "stdout",
          "text": [
            "Scalar Multiplication of 3 and [4, 5] is [12, 15]\n",
            "\n",
            "Addition of [1, 2, 3] and [1, 5, 4] is [2, 7, 7]\n",
            "\n",
            "*****MisMatch Vector Error: Vectors size is not same******\n",
            "\n",
            "Subtraction of [1, 2, 3] and [1, 5, 4] is [0, -3, -1]\n",
            "\n",
            "*****MisMatch Vector Error: Vectors size is not same******\n",
            "\n",
            "Dot product of [1, 2, 3] and [1, 5, 4] is 23\n",
            "\n",
            "*****MisMatch Vector Error: Vectors size is not same******\n",
            "\n",
            "Cross product of [1, 2, 3] and  [1, 5, 4] is  [-7, -1, 3]\n",
            "\n",
            "***Vectors Size for Cross Product is not correct ***\n",
            "\n"
          ]
        }
      ]
    },
    {
      "cell_type": "markdown",
      "source": [
        "##b. Matrix Operations\n",
        "\n",
        "###Write Python functions to perform the operations, without using external libraries*:\n",
        "\n",
        "\n",
        "\n",
        "1.   Calculate and return the size of a matrix as a 2-dimensional tuple\n",
        "2.   Sum/subtract the matrix with another matrix of suitable size. Print a suitable error message if incorrect matrix sizes are passed.\n",
        "3.   Multiply the matrix with a vector of suitable size. Print a suitable error message if incorrect matrix/vector sizes are passed.\n",
        "4.   Multiply the matrix with a matrix of suitable size. Print a suitable error message if incorrect matrix sizes are passed.  \n",
        "5.   Calculate the determinant of a 2x2 matrix. For any other matrix this function should print a suitable error message.\n",
        "5.   Calculate the inverse of a 2x2 matrix.  For any other matrix this function should print a suitable error message. An error message should also be raised if the matrix is non-invertible.\n",
        "\n",
        "\n",
        "\n",
        "\n",
        "\n"
      ],
      "metadata": {
        "id": "1TCmsHIs0I6x"
      }
    },
    {
      "cell_type": "markdown",
      "source": [
        "### 1. Calculate and return the size of a matrix as a 2-dimensional tuple"
      ],
      "metadata": {
        "id": "HCCRNXWJ07QH"
      }
    },
    {
      "cell_type": "code",
      "source": [
        "def matrixSize(matrix):\n",
        "  rows = len(matrix)\n",
        "  cols = len(matrix[0])\n",
        "\n",
        "  return tuple((rows,cols))\n"
      ],
      "metadata": {
        "id": "HWxFXC400HvU"
      },
      "execution_count": 26,
      "outputs": []
    },
    {
      "cell_type": "code",
      "source": [
        "mat = [[1,2],[4,5]]\n",
        "print(f\"Matrix size of {mat} is {matrixSize(mat)}\")"
      ],
      "metadata": {
        "colab": {
          "base_uri": "https://localhost:8080/"
        },
        "id": "8wu7wakMXX_C",
        "outputId": "1f2f0121-0b03-47bb-88b7-a5119d0ce794"
      },
      "execution_count": 27,
      "outputs": [
        {
          "output_type": "stream",
          "name": "stdout",
          "text": [
            "Matrix size of [[1, 2], [4, 5]] is (2, 2)\n"
          ]
        }
      ]
    },
    {
      "cell_type": "markdown",
      "source": [
        "###2 - Sum/subtract the matrix with another matrix of suitable size. Print a suitable error message if incorrect matrix sizes are passed."
      ],
      "metadata": {
        "id": "dvszgdS4Ygty"
      }
    },
    {
      "cell_type": "code",
      "source": [
        "def matrixSubtraction(first_matrix, second_matrix):\n",
        "  \"\"\"This function subtracts second_matrix from the first_matrix and returns the new matrix\"\"\"\n",
        "\n",
        "  # Getting matrix size of First and Second Matrix then comparing their dimension are equal or not\n",
        "  if matrixSize(first_matrix) != matrixSize(second_matrix):\n",
        "    raise ValueError(\"For Subtraction, Matrices must have same num of rows and cols\")\n",
        "\n",
        "  #getting the rows and cols\n",
        "  rows, cols = matrixSize(first_matrix)\n",
        "\n",
        "  new_matrix = []\n",
        "\n",
        "  for r in range(rows):\n",
        "    new_row = []\n",
        "    for c in range(cols):\n",
        "      new_row.append(0) # adding zero to the new_row\n",
        "    new_matrix.append(new_row) # adding row to the new_matrix\n",
        "\n",
        "  # Iterate through the matrixes and do subtraction (first_matrix - second_matrix)\n",
        "  for r in range(rows):\n",
        "    for c in range(cols):\n",
        "      new_matrix[r][c] = first_matrix[r][c] - second_matrix[r][c]\n",
        "\n",
        "  return new_matrix\n"
      ],
      "metadata": {
        "id": "LyQhJx9QYn4s"
      },
      "execution_count": 28,
      "outputs": []
    },
    {
      "cell_type": "code",
      "source": [
        "matrix1 = [[2,2,2], [3,3,3]]\n",
        "matrix2 = [[1,1,1],[1,1,1]]\n",
        "\n",
        "print(f\"Matrix subtraction of {matrix1} and {matrix2} is {matrixSubtraction(matrix1,matrix2)}\")\n"
      ],
      "metadata": {
        "colab": {
          "base_uri": "https://localhost:8080/"
        },
        "id": "Ev3TOQxDZO7G",
        "outputId": "b26d8d86-8009-483c-9c3d-534d5d2833a6"
      },
      "execution_count": 29,
      "outputs": [
        {
          "output_type": "stream",
          "name": "stdout",
          "text": [
            "Matrix subtraction of [[2, 2, 2], [3, 3, 3]] and [[1, 1, 1], [1, 1, 1]] is [[1, 1, 1], [2, 2, 2]]\n"
          ]
        }
      ]
    },
    {
      "cell_type": "markdown",
      "source": [
        "###Multiply the matrix with a vector of suitable size. Print a suitable error message if incorrect matrix/vector sizes are passed."
      ],
      "metadata": {
        "id": "wS6LRwy1qn1w"
      }
    },
    {
      "cell_type": "code",
      "source": [
        "def matrixMultiplyVector(mat, vect):\n",
        "  \"\"\"This function multiples matrix with a vector and returns the result\"\"\"\n",
        "\n",
        "  # Getting matrixSize of First and lenght of the Vector\n",
        "  r1,c1 = matrixSize(mat)\n",
        "  lengthOfVector =  len(vect)\n",
        "\n",
        "  # Then comparing the column of matrix and length of vector is same for multiplication or not\n",
        "  if c1 != lengthOfVector:\n",
        "    raise ValueError(\"Column of Matrix and Length of vector is not the same\")\n",
        "\n",
        "  # Initializing 2D - matrix with 0\n",
        "  matrix = []\n",
        "\n",
        "  for r in range(r1):\n",
        "      matrix.append(0) # adding zero\n",
        "\n",
        "  for r in range(r1):\n",
        "    elem = 0\n",
        "    for c in range(c1):\n",
        "      elem += mat[r][c]*vect[c]\n",
        "    matrix[r]= elem\n",
        "\n",
        "  return matrix\n",
        "\n"
      ],
      "metadata": {
        "id": "KeGtwB-MqqMD"
      },
      "execution_count": 30,
      "outputs": []
    },
    {
      "cell_type": "code",
      "source": [
        "# invoking matrixMultiplyVector\n",
        "a= [[1,2],[3,4],[5,6]]\n",
        "v= [2,3]\n",
        "\n",
        "print(f\"Matrix multiplication {a} by a Vector {v} is {matrixMultiplyVector(a,v)}\")\n"
      ],
      "metadata": {
        "colab": {
          "base_uri": "https://localhost:8080/"
        },
        "id": "UoSRXNWk6_vX",
        "outputId": "82cb2ae1-5266-4398-8e21-6a4c54dcbae0"
      },
      "execution_count": 31,
      "outputs": [
        {
          "output_type": "stream",
          "name": "stdout",
          "text": [
            "Matrix multiplication [[1, 2], [3, 4], [5, 6]] by a Vector [2, 3] is [8, 18, 28]\n"
          ]
        }
      ]
    },
    {
      "cell_type": "code",
      "source": [
        "# invoking matrixMultiplyVector function with incorrect vector size\n",
        "a= [[1,2],[3,4],[5,6]]\n",
        "v= [2,3,3]\n",
        "\n",
        "matrixMultiplyVector(a,v)"
      ],
      "metadata": {
        "id": "fXXfTcA47B4N",
        "colab": {
          "base_uri": "https://localhost:8080/",
          "height": 331
        },
        "outputId": "acfc6590-bb5a-4a10-9690-fc4270fa885c"
      },
      "execution_count": 32,
      "outputs": [
        {
          "output_type": "error",
          "ename": "ValueError",
          "evalue": "ignored",
          "traceback": [
            "\u001b[0;31m---------------------------------------------------------------------------\u001b[0m",
            "\u001b[0;31mValueError\u001b[0m                                Traceback (most recent call last)",
            "\u001b[0;32m<ipython-input-32-c632d35a364c>\u001b[0m in \u001b[0;36m<cell line: 5>\u001b[0;34m()\u001b[0m\n\u001b[1;32m      3\u001b[0m \u001b[0mv\u001b[0m\u001b[0;34m=\u001b[0m \u001b[0;34m[\u001b[0m\u001b[0;36m2\u001b[0m\u001b[0;34m,\u001b[0m\u001b[0;36m3\u001b[0m\u001b[0;34m,\u001b[0m\u001b[0;36m3\u001b[0m\u001b[0;34m]\u001b[0m\u001b[0;34m\u001b[0m\u001b[0;34m\u001b[0m\u001b[0m\n\u001b[1;32m      4\u001b[0m \u001b[0;34m\u001b[0m\u001b[0m\n\u001b[0;32m----> 5\u001b[0;31m \u001b[0mmatrixMultiplyVector\u001b[0m\u001b[0;34m(\u001b[0m\u001b[0ma\u001b[0m\u001b[0;34m,\u001b[0m\u001b[0mv\u001b[0m\u001b[0;34m)\u001b[0m\u001b[0;34m\u001b[0m\u001b[0;34m\u001b[0m\u001b[0m\n\u001b[0m",
            "\u001b[0;32m<ipython-input-30-d6d6a8dbd462>\u001b[0m in \u001b[0;36mmatrixMultiplyVector\u001b[0;34m(mat, vect)\u001b[0m\n\u001b[1;32m      8\u001b[0m   \u001b[0;31m# Then comparing the column of matrix and length of vector is same for multiplication or not\u001b[0m\u001b[0;34m\u001b[0m\u001b[0;34m\u001b[0m\u001b[0m\n\u001b[1;32m      9\u001b[0m   \u001b[0;32mif\u001b[0m \u001b[0mc1\u001b[0m \u001b[0;34m!=\u001b[0m \u001b[0mlengthOfVector\u001b[0m\u001b[0;34m:\u001b[0m\u001b[0;34m\u001b[0m\u001b[0;34m\u001b[0m\u001b[0m\n\u001b[0;32m---> 10\u001b[0;31m     \u001b[0;32mraise\u001b[0m \u001b[0mValueError\u001b[0m\u001b[0;34m(\u001b[0m\u001b[0;34m\"Column of Matrix and Length of vector is not the same\"\u001b[0m\u001b[0;34m)\u001b[0m\u001b[0;34m\u001b[0m\u001b[0;34m\u001b[0m\u001b[0m\n\u001b[0m\u001b[1;32m     11\u001b[0m \u001b[0;34m\u001b[0m\u001b[0m\n\u001b[1;32m     12\u001b[0m   \u001b[0;31m# Initializing 2D - matrix with 0\u001b[0m\u001b[0;34m\u001b[0m\u001b[0;34m\u001b[0m\u001b[0m\n",
            "\u001b[0;31mValueError\u001b[0m: Column of Matrix and Length of vector is not the same"
          ]
        }
      ]
    },
    {
      "cell_type": "markdown",
      "source": [
        "###Multiply the matrix with a matrix of suitable size. Print a suitable error message if incorrect matrix sizes are passed."
      ],
      "metadata": {
        "id": "PgufWIdb7GG0"
      }
    },
    {
      "cell_type": "code",
      "source": [
        "def matrixMultiplication(matrixA, matrixB):\n",
        "  \"\"\"This function does matrix multiplication and returns the resulting new matrix\"\"\"\n",
        "\n",
        "  rowA, colA = matrixSize(matrixA)\n",
        "  rowB, colB = matrixSize(matrixB)\n",
        "\n",
        "  if colA !=rowB:\n",
        "    raise ValueError(\"Error: Matrix Sizes are not correct. matrixA's column and matrixB's row size does not match\")\n",
        "\n",
        "  matrixC = []\n",
        "\n",
        "  for r1 in range(rowA):\n",
        "    mat=[]\n",
        "    for c2 in range(colB):\n",
        "      mat.append(0)\n",
        "    matrixC.append(mat)\n",
        "\n",
        "  #print(matrixC)\n",
        "\n",
        "  for r1 in range(rowA):\n",
        "    for c2 in range(colB):\n",
        "      for c1 in range(colA):\n",
        "        matrixC[r1][c2] += matrixA[r1][c1]*matrixB[c1][c2]\n",
        "\n",
        "\n",
        "  return matrixC\n",
        "\n",
        "matA= [[1,2],[3,4]]\n",
        "matB= [[1,2,3],[4,5,6]]\n",
        "\n",
        "print(f\"Matrix multiplication of {matA} and {matB} is {matrixMultiplication(matA,matB)}\")\n"
      ],
      "metadata": {
        "colab": {
          "base_uri": "https://localhost:8080/"
        },
        "id": "Lkwykqxx7J0J",
        "outputId": "b0b4d3de-c99c-40b0-8ef9-f6d93784e9a0"
      },
      "execution_count": 33,
      "outputs": [
        {
          "output_type": "stream",
          "name": "stdout",
          "text": [
            "Matrix multiplication of [[1, 2], [3, 4]] and [[1, 2, 3], [4, 5, 6]] is [[9, 12, 15], [19, 26, 33]]\n"
          ]
        }
      ]
    },
    {
      "cell_type": "markdown",
      "source": [
        "###Calculate the determinant of a 2x2 matrix. For any other matrix this function should print a suitable error message."
      ],
      "metadata": {
        "id": "q-otLN5YKIIM"
      }
    },
    {
      "cell_type": "code",
      "source": [
        "def determinant(matrix):\n",
        "  \"\"\"This function returns the determinant of 2x2 matrix\"\"\"\n",
        "\n",
        "  row ,col = matrixSize(matrix)\n",
        "  if row!=2 and col!=2 :\n",
        "    raise ValueError(\"Error: Its not a 2x2 matrix. Please pass 2x2 matrix\")\n",
        "\n",
        "  det = matrix[0][0]*matrix[1][1] - matrix[0][1]*matrix[1][0]\n",
        "  return det\n",
        "\n",
        "\n",
        "B= [[3, -4],[2,-5]]\n",
        "print(f\"Determinant of {B} is {determinant(B)}\")\n"
      ],
      "metadata": {
        "colab": {
          "base_uri": "https://localhost:8080/"
        },
        "id": "G6YeTkTIKJpj",
        "outputId": "a47bb59f-7ee7-40b0-97eb-706fdc76f399"
      },
      "execution_count": 34,
      "outputs": [
        {
          "output_type": "stream",
          "name": "stdout",
          "text": [
            "Determinant of [[3, -4], [2, -5]] is -7\n"
          ]
        }
      ]
    },
    {
      "cell_type": "markdown",
      "source": [
        "###Calculate the inverse of a 2x2 matrix.  For any other matrix this function should print a suitable error message. An error message should also be raised if the matrix is non-invertible."
      ],
      "metadata": {
        "id": "__-aaACVLrqV"
      }
    },
    {
      "cell_type": "code",
      "source": [
        "def inverse(matrix):\n",
        "  \"\"\"This function calculates the inverse of 2x2 matrix. It raises error if matrix is not suitable or if matrix in non-invertible\"\"\"\n",
        "\n",
        "  det = determinant(matrix)\n",
        "\n",
        "  if det == 0:\n",
        "    raise ValueError(\"Error: Matrix is non-invertible as determinant is 0. Please try with non-square matrix\")\n",
        "\n",
        "  mat = [[0,0],[0,0]]\n",
        "\n",
        "  mat[0][0] = (matrix[1][1])/det\n",
        "  mat[0][1] = (-1 * matrix[0][1])/det\n",
        "  mat[1][0] = (-1 * matrix[1][0])/det\n",
        "  mat[1][1] = (matrix[0][0])/det\n",
        "\n",
        "  return mat\n",
        "\n",
        "\n"
      ],
      "metadata": {
        "id": "qnjJL0r6Lw0l"
      },
      "execution_count": 35,
      "outputs": []
    },
    {
      "cell_type": "code",
      "source": [
        "B= [[4, 3],[3,2]]\n",
        "B_Inverse = inverse(B)\n",
        "\n",
        "print(\"B Inverse: \", B_Inverse)\n",
        "\n",
        "## This confirms that inverse function is working correctly as B inverse multiplied by B = Identity matrix\n",
        "print(\"B_inverse.B = Identity Matrix \\nI =\", matrixMultiplication(B_Inverse,B))"
      ],
      "metadata": {
        "colab": {
          "base_uri": "https://localhost:8080/"
        },
        "id": "kALZ3f9fRLFD",
        "outputId": "506aa43d-ff1b-4b8b-fb31-d40f60c88ce3"
      },
      "execution_count": 36,
      "outputs": [
        {
          "output_type": "stream",
          "name": "stdout",
          "text": [
            "B Inverse:  [[-2.0, 3.0], [3.0, -4.0]]\n",
            "B_inverse.B = Identity Matrix \n",
            "I = [[1.0, 0.0], [0.0, 1.0]]\n"
          ]
        }
      ]
    }
  ]
}