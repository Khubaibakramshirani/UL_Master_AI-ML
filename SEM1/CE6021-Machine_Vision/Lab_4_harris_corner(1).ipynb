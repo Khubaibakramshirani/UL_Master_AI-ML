{
  "nbformat": 4,
  "nbformat_minor": 0,
  "metadata": {
    "colab": {
      "provenance": []
    },
    "kernelspec": {
      "name": "python3",
      "display_name": "Python 3"
    }
  },
  "cells": [
    {
      "cell_type": "markdown",
      "source": [
        "\n",
        "\n",
        "*   **Student Name:** Muhammad Khubaib Akram\n",
        "*   **Student ID:** 23098929\n",
        "\n"
      ],
      "metadata": {
        "id": "ynwEyN42Az34"
      }
    },
    {
      "cell_type": "markdown",
      "metadata": {
        "id": "Gf7sODLhvy9y"
      },
      "source": [
        "#Lab1_3 Harris Corner Detector.\n",
        "In this lab the Harris Corner Detector is implemented from the method discussed in the lessons.\n",
        "\n",
        "> Corners are detected in local image regions using the corner reponse function $R=Det(M)-\\alpha Trace(M)^2$ which is formed from the Determinate and Trace of the matrix $ M = \\begin{vmatrix} A & C \\\\ C & B \\end{vmatrix}$. M is referred to as the second moment matrix (slide 11).\n",
        "\n",
        "> The second moment matrix nominally consists of the 2nd order partial derivatives of change in intensity of the image e.g. $A = \\frac{\\partial^2{E_{0,0}}}{\\partial{x}^2}$.\n",
        "\n",
        "> The 2nd order partial derivatives can be approximated from products of partial derivatives of the image convolved with a small gaussian window $\\frac{\\partial^2{E_{0,0}}}{\\partial{x}^2} = \\sum_{u,v} 2 w_{u,v} (\\frac{\\partial{I_{u,v}}}{\\partial{x}}\\frac{\\partial{I_{u,v}}}{\\partial{x}} )= X^2\\circledast W$ . (slide 9)\n",
        "\n",
        "> The first order image derivatives can be obtained using any finite difference approximate to the derivative or with by filtering the image with the x and y sobel kernels $\\frac{\\partial{I_{u,v}}}{\\partial{x}}= X=I_{u,v}\\circledast x_{sobel}$ (slide 7)\n",
        "\n",
        "\n",
        "\n",
        "\n"
      ]
    },
    {
      "cell_type": "markdown",
      "metadata": {
        "id": "e3WztF3h9bzN"
      },
      "source": [
        "**HouseKeeping:** Load test image, import required packages (you can swap between the checkerboard test image, which is very useful to determine that the algorithm works properly and other images from the web to try out)"
      ]
    },
    {
      "cell_type": "code",
      "metadata": {
        "id": "DnKGRus2vLtm"
      },
      "source": [
        "import numpy as np\n",
        "from scipy import signal\n",
        "import cv2\n",
        "import matplotlib.pyplot as plt\n",
        "import urllib.request"
      ],
      "execution_count": 61,
      "outputs": []
    },
    {
      "cell_type": "code",
      "metadata": {
        "id": "v3_2VSvszND5"
      },
      "source": [
        "# function to read images from Web addresses.\n",
        "def url_to_image(url):\n",
        "\tresp = urllib.request.urlopen(url)\n",
        "\ttemp_image = np.asarray(bytearray(resp.read()), dtype=\"uint8\")\n",
        "\ttemp_image = cv2.imdecode(temp_image, cv2.IMREAD_COLOR)\n",
        "\ttemp_image = cv2.cvtColor(temp_image, cv2.COLOR_BGR2RGB) # OpenCV defaults to BGR, but we need RGB here..\n",
        "\treturn temp_image"
      ],
      "execution_count": 62,
      "outputs": []
    },
    {
      "cell_type": "code",
      "metadata": {
        "id": "RnfRjrypwVP4",
        "colab": {
          "base_uri": "https://localhost:8080/",
          "height": 452
        },
        "outputId": "b41599ba-b9bc-4d62-ca2d-aa328196c21c"
      },
      "source": [
        "# Import and resize corner regions.\n",
        "# read in test image\n",
        "image_url = \"https://upload.wikimedia.org/wikipedia/commons/thumb/5/5b/10x10_checkered_board.svg/800px-10x10_checkered_board.svg.png\"\n",
        "image = url_to_image(image_url)\n",
        "\n",
        "# Rescale & Crop Image\n",
        "HW_trg =512\n",
        "img_H = np.shape(image)[0]\n",
        "img_W = np.shape(image)[1]\n",
        "min_dim_size = min(img_H,img_W)\n",
        "scale_fac = HW_trg/min_dim_size\n",
        "scale_img_H = int(np.ceil(np.shape(image)[0]*scale_fac))\n",
        "scale_img_W = int(np.ceil(np.shape(image)[1]*scale_fac))\n",
        "rescale_image = cv2.resize(image, (scale_img_W,scale_img_H), interpolation = cv2.INTER_AREA)\n",
        "crop_image = rescale_image[0:HW_trg, 0:HW_trg]\n",
        "gray = cv2.cvtColor(crop_image, cv2.COLOR_BGR2GRAY)\n",
        "plt.imshow(gray,'gray')"
      ],
      "execution_count": 63,
      "outputs": [
        {
          "output_type": "execute_result",
          "data": {
            "text/plain": [
              "<matplotlib.image.AxesImage at 0x7b8e12286920>"
            ]
          },
          "metadata": {},
          "execution_count": 63
        },
        {
          "output_type": "display_data",
          "data": {
            "text/plain": [
              "<Figure size 640x480 with 1 Axes>"
            ],
            "image/png": "[encoded data removed]"
          },
          "metadata": {}
        }
      ]
    },
    {
      "cell_type": "markdown",
      "metadata": {
        "id": "fURim5j80z-P"
      },
      "source": [
        "#Harris Algorithm (part 1)\n",
        "In order to be able to form the components of the matrix M we will carry out the following steps:\n",
        "\n",
        "1.   Create function(s) to output gradient (sobel or prewitt) kernels & (small) Gaussian kernel.\n",
        "2.   Determine estimates of 1st order partial derivatives of the image $(\\frac{\\partial{I_{u,v}}}{\\partial{x}},\\frac{\\partial{I_{u,v}}}{\\partial{y}})$ by convolving the image with the gradient (sobel or prewitt) kernels.\n",
        "3.    Obtain products of 1st order partial derivatives (e.g. $XY= \\frac{\\partial{I_{u,v}}}{\\partial{x}} \\frac{\\partial{I_{u,v}}}{\\partial{y}}$).\n",
        "4.  Convolve the products of 1st order partial derivatives with the guassian kernel to obtain components of the second moment matrix $M = \\begin{pmatrix}\n",
        "A & C \\\\\n",
        "C & B\n",
        "\\end{pmatrix}$ (e.g. $ A = X^2 \\circledast W$).\n",
        "\n",
        "Hints:\n",
        " * It is best to consistently use numpy methods (arrays) to complete this lab.\n",
        " * In order to define the [sobel](https://en.wikipedia.org/wiki/Sobel_operator) or [prewitt](https://en.wikipedia.org/wiki/Prewitt_operator) kernels, the [numpy array method](https://numpy.org/doc/stable/reference/generated/numpy.array.html) can be used (A 2D array will be required).\n",
        " *The gaussian kernel can be defined in exactly the same way as lab1_1A (i.e. creating a 1D array over a range of pixels and using outer product to create a 2D array)\n",
        " * In order to perform 2D convolution between the image (or other array) and the kernels, the [scipy convolve 2d](https://docs.scipy.org/doc/scipy/reference/generated/scipy.signal.convolve2d.html) method can be used."
      ]
    },
    {
      "cell_type": "code",
      "metadata": {
        "id": "xuV2zMsHyxqf"
      },
      "source": [
        "# 1. Functions to ouptut\n",
        "\n",
        "def grad_kernel():\n",
        "  kernelx = [\n",
        "      [-1,0,1],\n",
        "      [-2,0,2],\n",
        "      [-1,0,1]]\n",
        "\n",
        "  kernely = [\n",
        "      [1,2,1],\n",
        "      [0,0,0],\n",
        "      [-1,-2,-1]]\n",
        "\n",
        "  return [kernelx,kernely]\n",
        "\n",
        "def gauss_kernel(sigma):\n",
        "    \"\"\"\n",
        "    sigma: Parameter controlling Gaussian blur\n",
        "    gauss_2d: output array containing kernel\n",
        "    \"\"\"\n",
        "\n",
        "    # Work out necessary kernel size and range to generate gaussian over.\n",
        "    M = (6*sigma) + 1\n",
        "\n",
        "    #print (\"M: \", M)\n",
        "\n",
        "    rng = M//2\n",
        "    x = np.arange(-rng, rng+1)\n",
        "\n",
        "    #print(\"range X = \", x)\n",
        "    # Implement the 1D guassian using the PDF equation\n",
        "\n",
        "    gauss_1d =  1 / ( sigma * ( np.sqrt(2*np.pi) ) )*  np.exp( -1*((x**2) / (2 *(sigma**2))))\n",
        "    gauss_2d = np.outer(gauss_1d,gauss_1d)\n",
        "\n",
        "    return gauss_2d\n"
      ],
      "execution_count": 79,
      "outputs": []
    },
    {
      "cell_type": "code",
      "metadata": {
        "id": "G-4dOSvE2iWa",
        "colab": {
          "base_uri": "https://localhost:8080/",
          "height": 678
        },
        "outputId": "db42e3ce-d333-41ca-fe70-3c0a77a1acfa"
      },
      "source": [
        "# 2. Obtain estimates of parital derivatives of the image by convolution with sobel kernels\n",
        "#### Your Code Here ####\n",
        "x_k,y_k = grad_kernel()\n",
        "\n",
        "print(f\"Sobel Kernel X = {x_k}\\n\")\n",
        "print(f\"Sobel Kernel Y = {y_k}\\n\")\n",
        "\n",
        "partial_deravative_x = signal.convolve2d(gray, x_k, mode= 'same', boundary='symm', fillvalue=0)\n",
        "partial_deravative_y = signal.convolve2d(gray, y_k, mode= 'same', boundary='symm', fillvalue=0)\n",
        "\n",
        "print(f\"partial_deravative_x = {partial_deravative_x}\\n\")\n",
        "print(f\"partial_deravative_y = {partial_deravative_y}\\n\")\n",
        "\n",
        "sobel_kernel_X_Y = np.hstack((partial_deravative_x,partial_deravative_y))\n",
        "\n",
        "plt.imshow(sobel_kernel_X_Y,'gray')"
      ],
      "execution_count": 65,
      "outputs": [
        {
          "output_type": "stream",
          "name": "stdout",
          "text": [
            "Sobel Kernel X = [[-1, 0, 1], [-2, 0, 2], [-1, 0, 1]]\n",
            "\n",
            "Sobel Kernel Y = [[1, 2, 1], [0, 0, 0], [-1, -2, -1]]\n",
            "\n",
            "partial_deravative_x = [[0 0 0 ... 0 0 0]\n",
            " [0 0 0 ... 0 0 0]\n",
            " [0 0 0 ... 0 0 0]\n",
            " ...\n",
            " [0 0 0 ... 0 0 0]\n",
            " [0 0 0 ... 0 0 0]\n",
            " [0 0 0 ... 0 0 0]]\n",
            "\n",
            "partial_deravative_y = [[0 0 0 ... 0 0 0]\n",
            " [0 0 0 ... 0 0 0]\n",
            " [0 0 0 ... 0 0 0]\n",
            " ...\n",
            " [0 0 0 ... 0 0 0]\n",
            " [0 0 0 ... 0 0 0]\n",
            " [0 0 0 ... 0 0 0]]\n",
            "\n"
          ]
        },
        {
          "output_type": "execute_result",
          "data": {
            "text/plain": [
              "<matplotlib.image.AxesImage at 0x7b8e11e73b50>"
            ]
          },
          "metadata": {},
          "execution_count": 65
        },
        {
          "output_type": "display_data",
          "data": {
            "text/plain": [
              "<Figure size 640x480 with 1 Axes>"
            ],
            "image/png": "[encoded data removed]"
          },
          "metadata": {}
        }
      ]
    },
    {
      "cell_type": "code",
      "metadata": {
        "id": "m72diHG1D4YM",
        "colab": {
          "base_uri": "https://localhost:8080/"
        },
        "outputId": "9330ad22-407a-447a-b497-124ad71e6531"
      },
      "source": [
        "# 3. Obtain products of 1st order partial derivatives.\n",
        "#### Your Code Here ####\n",
        "XX = np.multiply(partial_deravative_x,partial_deravative_x)\n",
        "YY = np.multiply(partial_deravative_y,partial_deravative_y)\n",
        "XY = np.multiply(partial_deravative_x,partial_deravative_y)\n",
        "\n",
        "print(f\"XX = {XX}\\n\")\n",
        "print(f\"YY = {YY}\\n\")\n",
        "print(f\"XY = {XY}\\n\")"
      ],
      "execution_count": 66,
      "outputs": [
        {
          "output_type": "stream",
          "name": "stdout",
          "text": [
            "XX = [[0 0 0 ... 0 0 0]\n",
            " [0 0 0 ... 0 0 0]\n",
            " [0 0 0 ... 0 0 0]\n",
            " ...\n",
            " [0 0 0 ... 0 0 0]\n",
            " [0 0 0 ... 0 0 0]\n",
            " [0 0 0 ... 0 0 0]]\n",
            "\n",
            "YY = [[0 0 0 ... 0 0 0]\n",
            " [0 0 0 ... 0 0 0]\n",
            " [0 0 0 ... 0 0 0]\n",
            " ...\n",
            " [0 0 0 ... 0 0 0]\n",
            " [0 0 0 ... 0 0 0]\n",
            " [0 0 0 ... 0 0 0]]\n",
            "\n",
            "XY = [[0 0 0 ... 0 0 0]\n",
            " [0 0 0 ... 0 0 0]\n",
            " [0 0 0 ... 0 0 0]\n",
            " ...\n",
            " [0 0 0 ... 0 0 0]\n",
            " [0 0 0 ... 0 0 0]\n",
            " [0 0 0 ... 0 0 0]]\n",
            "\n"
          ]
        }
      ]
    },
    {
      "cell_type": "code",
      "source": [
        "# 4. Convlove products with Gaussian\n",
        "# Determine Gaussian Kernel.\n",
        "sigma =2\n",
        "gauss_2d_kernel = gauss_kernel(sigma)\n",
        "\n",
        "#Convolve Products with Gaussian Kernel\n",
        "#### Your Code Here ####\n",
        "A= signal.convolve2d(XX, gauss_2d_kernel , mode= 'same', boundary='symm', fillvalue=0)\n",
        "B= signal.convolve2d(YY, gauss_2d_kernel , mode= 'same', boundary='symm', fillvalue=0)\n",
        "C= signal.convolve2d(XY, gauss_2d_kernel , mode= 'same', boundary='symm', fillvalue=0)\n",
        "\n",
        "print(f\"A = {A}\\n\")\n",
        "print(f\"B = {B}\\n\")\n",
        "print(f\"C = {C}\\n\")"
      ],
      "metadata": {
        "id": "zmd5P-lmNwLr",
        "colab": {
          "base_uri": "https://localhost:8080/"
        },
        "outputId": "a987c298-26ee-4623-c679-04570e39b81e"
      },
      "execution_count": 67,
      "outputs": [
        {
          "output_type": "stream",
          "name": "stdout",
          "text": [
            "A = [[0. 0. 0. ... 0. 0. 0.]\n",
            " [0. 0. 0. ... 0. 0. 0.]\n",
            " [0. 0. 0. ... 0. 0. 0.]\n",
            " ...\n",
            " [0. 0. 0. ... 0. 0. 0.]\n",
            " [0. 0. 0. ... 0. 0. 0.]\n",
            " [0. 0. 0. ... 0. 0. 0.]]\n",
            "\n",
            "B = [[0. 0. 0. ... 0. 0. 0.]\n",
            " [0. 0. 0. ... 0. 0. 0.]\n",
            " [0. 0. 0. ... 0. 0. 0.]\n",
            " ...\n",
            " [0. 0. 0. ... 0. 0. 0.]\n",
            " [0. 0. 0. ... 0. 0. 0.]\n",
            " [0. 0. 0. ... 0. 0. 0.]]\n",
            "\n",
            "C = [[0. 0. 0. ... 0. 0. 0.]\n",
            " [0. 0. 0. ... 0. 0. 0.]\n",
            " [0. 0. 0. ... 0. 0. 0.]\n",
            " ...\n",
            " [0. 0. 0. ... 0. 0. 0.]\n",
            " [0. 0. 0. ... 0. 0. 0.]\n",
            " [0. 0. 0. ... 0. 0. 0.]]\n",
            "\n"
          ]
        }
      ]
    },
    {
      "cell_type": "markdown",
      "metadata": {
        "id": "oMyP9reYDpkE"
      },
      "source": [
        "#Harris Algorithm (part2)\n",
        "\n",
        "1. Find Corner Response Function $R=Det(M)-\\alpha Trace(M)^2$. The corner response function is determined as the difference (with a scaling factor $\\alpha$ between the Determinant and trace of the matrix M. As shown in the slides, the Determinat and Trace can be easily found from the elements of the matix $M$.\n",
        "> $Det(M) = AB-C^2$\n",
        "\n",
        ">> $Trace(M) = A+B$\n",
        "\n",
        "2. Display the coner response function with the given code snippet. Ensure that the corner response function makes sense, do the maxima and minima appear where you expect them?\n",
        "\n",
        "3. Mark corners on the original image.\n",
        " First a threshold value is used to remove the flat regions and edges found in the corner response.\n",
        "The x,y coordinates of local maxima in the image are obtained using the peak_local_max method as shown in the [scikit learn example](https://scikit-image.org/docs/dev/auto_examples/segmentation/plot_peak_local_max.html).  The coordinates can be marked on the image.\n"
      ]
    },
    {
      "cell_type": "code",
      "metadata": {
        "id": "oK4MwpV98r6s",
        "colab": {
          "base_uri": "https://localhost:8080/"
        },
        "outputId": "273b4cb9-bdcb-4e29-b2f4-f468462d7550"
      },
      "source": [
        "# 1. Obtain Corner response Function\n",
        "alpha = 0.04\n",
        "\n",
        "###  Your Code Here #####\n",
        "Det_M = A*B - pow(C,2)\n",
        "\n",
        "Trace_M = A+B\n",
        "\n",
        "response_fun = Det_M - alpha*(pow(Trace_M,2))\n",
        "\n",
        "\n",
        "print(f\"Det M = {Det_M}\\n\")\n",
        "print(f\"Trace_M = {Trace_M}\\n\")\n",
        "print(f\"Response fun = {response_fun}\\n\")\n"
      ],
      "execution_count": 68,
      "outputs": [
        {
          "output_type": "stream",
          "name": "stdout",
          "text": [
            "Det M = [[0. 0. 0. ... 0. 0. 0.]\n",
            " [0. 0. 0. ... 0. 0. 0.]\n",
            " [0. 0. 0. ... 0. 0. 0.]\n",
            " ...\n",
            " [0. 0. 0. ... 0. 0. 0.]\n",
            " [0. 0. 0. ... 0. 0. 0.]\n",
            " [0. 0. 0. ... 0. 0. 0.]]\n",
            "\n",
            "Trace_M = [[0. 0. 0. ... 0. 0. 0.]\n",
            " [0. 0. 0. ... 0. 0. 0.]\n",
            " [0. 0. 0. ... 0. 0. 0.]\n",
            " ...\n",
            " [0. 0. 0. ... 0. 0. 0.]\n",
            " [0. 0. 0. ... 0. 0. 0.]\n",
            " [0. 0. 0. ... 0. 0. 0.]]\n",
            "\n",
            "Response fun = [[0. 0. 0. ... 0. 0. 0.]\n",
            " [0. 0. 0. ... 0. 0. 0.]\n",
            " [0. 0. 0. ... 0. 0. 0.]\n",
            " ...\n",
            " [0. 0. 0. ... 0. 0. 0.]\n",
            " [0. 0. 0. ... 0. 0. 0.]\n",
            " [0. 0. 0. ... 0. 0. 0.]]\n",
            "\n"
          ]
        }
      ]
    },
    {
      "cell_type": "code",
      "metadata": {
        "id": "0lHXWnCBKYpT",
        "colab": {
          "base_uri": "https://localhost:8080/",
          "height": 678
        },
        "outputId": "e671584c-6894-4f68-c82f-943669ac13e0"
      },
      "source": [
        "# 2. Plot Corner response function\n",
        "norm_response = response_fun+abs(np.min(response_fun))\n",
        "norm_response = 255.0*norm_response/np.max(norm_response)\n",
        "print(norm_response)\n",
        "plt.imshow(norm_response,'jet')"
      ],
      "execution_count": 69,
      "outputs": [
        {
          "output_type": "stream",
          "name": "stdout",
          "text": [
            "[[21.55807034 21.55807034 21.55807034 ... 21.55807034 21.55807034\n",
            "  21.55807034]\n",
            " [21.55807034 21.55807034 21.55807034 ... 21.55807034 21.55807034\n",
            "  21.55807034]\n",
            " [21.55807034 21.55807034 21.55807034 ... 21.55807034 21.55807034\n",
            "  21.55807034]\n",
            " ...\n",
            " [21.55807034 21.55807034 21.55807034 ... 21.55807034 21.55807034\n",
            "  21.55807034]\n",
            " [21.55807034 21.55807034 21.55807034 ... 21.55807034 21.55807034\n",
            "  21.55807034]\n",
            " [21.55807034 21.55807034 21.55807034 ... 21.55807034 21.55807034\n",
            "  21.55807034]]\n"
          ]
        },
        {
          "output_type": "execute_result",
          "data": {
            "text/plain": [
              "<matplotlib.image.AxesImage at 0x7b8e11aed2a0>"
            ]
          },
          "metadata": {},
          "execution_count": 69
        },
        {
          "output_type": "display_data",
          "data": {
            "text/plain": [
              "<Figure size 640x480 with 1 Axes>"
            ],
            "image/png": "[encoded data removed]"
          },
          "metadata": {}
        }
      ]
    },
    {
      "cell_type": "code",
      "metadata": {
        "id": "XRKxLKnPxfGU"
      },
      "source": [
        "#3a: Apply a threshold to normalised response\n",
        "###  Your Code Here #####\n",
        "corner_threshold = (norm_response > 123).astype(int)"
      ],
      "execution_count": 76,
      "outputs": []
    },
    {
      "cell_type": "code",
      "metadata": {
        "id": "WitjXpicPoUe"
      },
      "source": [
        "from scipy import ndimage as ndi\n",
        "\n",
        "from skimage.feature import peak_local_max\n",
        "# 3b: Find local maximum\n",
        "\n",
        "###  Your Code Here #####\n",
        "\n",
        "# image_max is the dilation of im with a 20*20 structuring element\n",
        "# It is used within peak_local_max function\n",
        "image_max = ndi.maximum_filter(corner_threshold, size=20, mode='constant')\n",
        "\n",
        "\n",
        "# Comparison between image_max and im to find the coordinates of local maxima\n",
        "coordinates = peak_local_max(corner_threshold, min_distance=20)\n",
        "\n",
        "\n",
        "print(coordinates)\n",
        "# Comparison between image_max and vals_greater_thresh to find the coordinates of local maxima"
      ],
      "execution_count": 77,
      "outputs": []
    },
    {
      "cell_type": "code",
      "source": [
        "# plot coordinates on original image\n",
        "\n",
        "for xy_pos in coordinates:\n",
        "   cv2.circle(crop_image, (xy_pos[1],xy_pos[0]), 1, (255,0,0),thickness=2)\n",
        "\n",
        "plt.figure(figsize=(10,10))\n",
        "plt.imshow(crop_image)\n",
        "\n"
      ],
      "metadata": {
        "id": "oUal4l9dchuE",
        "colab": {
          "base_uri": "https://localhost:8080/",
          "height": 852
        },
        "outputId": "462cd053-49a8-473a-e386-a9447ee54b9e"
      },
      "execution_count": 78,
      "outputs": [
        {
          "output_type": "execute_result",
          "data": {
            "text/plain": [
              "<matplotlib.image.AxesImage at 0x7b8e07777ca0>"
            ]
          },
          "metadata": {},
          "execution_count": 78
        },
        {
          "output_type": "display_data",
          "data": {
            "text/plain": [
              "<Figure size 1000x1000 with 1 Axes>"
            ],
            "image/png": "[encoded data removed]"
          },
          "metadata": {}
        }
      ]
    }
  ]
}