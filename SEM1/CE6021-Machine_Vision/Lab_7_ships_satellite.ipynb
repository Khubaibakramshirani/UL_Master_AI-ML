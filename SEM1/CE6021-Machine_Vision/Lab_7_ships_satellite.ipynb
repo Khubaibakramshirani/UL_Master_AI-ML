version https://git-lfs.github.com/spec/v1
oid sha256:6040b790b26408c5df7dfc79418df0f7de8ec2c6061886cf5c9334ec3e71a627
size 3047555
